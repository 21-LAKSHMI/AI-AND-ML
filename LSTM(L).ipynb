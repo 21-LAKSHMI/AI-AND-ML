{
 "cells": [
  {
   "cell_type": "code",
   "execution_count": 2,
   "id": "88de8aa1-2fed-4537-a8c7-c430468a1724",
   "metadata": {},
   "outputs": [],
   "source": [
    "import os\n",
    "import librosa\n",
    "import numpy as np\n",
    "from sklearn.model_selection import train_test_split\n",
    "from sklearn.preprocessing import LabelEncoder\n",
    "from tensorflow.keras.utils import to_categorical\n",
    "from tensorflow.keras.models import Sequential\n",
    "from tensorflow.keras.layers import LSTM, Dense, Dropout\n",
    "import matplotlib.pyplot as plt\n"
   ]
  },
  {
   "cell_type": "code",
   "execution_count": 3,
   "id": "f9d21c4f-3f80-4fb8-9978-5e68b66abae4",
   "metadata": {},
   "outputs": [],
   "source": [
    "DATASET_PATH = r\"C:\\Users\\USER\\Desktop\\Song_dataset\"\n",
    "genres = [\"rap\", \"melody\"]\n",
    "\n",
    "X, y = [], []\n",
    "SAMPLE_RATE = 22050  # standard librosa sample rate\n",
    "CLIP_DURATION = 10   # seconds\n",
    "CLIP_SAMPLES = SAMPLE_RATE * CLIP_DURATION\n",
    "\n",
    "for genre in genres:\n",
    "    folder = os.path.join(DATASET_PATH, genre)\n",
    "    for file in os.listdir(folder):\n",
    "        file_path = os.path.join(folder, file)\n",
    "        try:\n",
    "            signal, sr = librosa.load(file_path, sr=SAMPLE_RATE)\n",
    "            \n",
    "            # Split song into multiple 10-sec clips\n",
    "            for start in range(0, len(signal), CLIP_SAMPLES):\n",
    "                clip = signal[start:start+CLIP_SAMPLES]\n",
    "                \n",
    "                if len(clip) == CLIP_SAMPLES:  # only full clips\n",
    "                    mfcc = librosa.feature.mfcc(y=clip, sr=sr, n_mfcc=40)\n",
    "                    mfcc = mfcc.T  # (time_steps, n_mfcc)\n",
    "                    \n",
    "                    X.append(mfcc)\n",
    "                    y.append(genre)\n",
    "        except:\n",
    "            print(\"Error with:\", file)\n"
   ]
  },
  {
   "cell_type": "code",
   "execution_count": 4,
   "id": "f65d51f8-b5ad-4a7d-ab12-9f07c08b38e1",
   "metadata": {},
   "outputs": [
    {
     "name": "stdout",
     "output_type": "stream",
     "text": [
      "X_train shape: (794, 431, 40)\n",
      "y_train shape: (794, 2)\n"
     ]
    }
   ],
   "source": [
    "X = np.array(X)\n",
    "y = np.array(y)\n",
    "\n",
    "encoder = LabelEncoder()\n",
    "y = encoder.fit_transform(y)\n",
    "y = to_categorical(y)\n",
    "\n",
    "# Train-test split\n",
    "X_train, X_test, y_train, y_test = train_test_split(X, y, test_size=0.2, random_state=42)\n",
    "\n",
    "print(\"X_train shape:\", X_train.shape)  # (samples, timesteps, features)\n",
    "print(\"y_train shape:\", y_train.shape)\n"
   ]
  },
  {
   "cell_type": "code",
   "execution_count": 5,
   "id": "c338ceff-0cff-44f9-bc9a-726f4f38b911",
   "metadata": {},
   "outputs": [
    {
     "name": "stdout",
     "output_type": "stream",
     "text": [
      "Model: \"sequential\"\n",
      "_________________________________________________________________\n",
      " Layer (type)                Output Shape              Param #   \n",
      "=================================================================\n",
      " lstm (LSTM)                 (None, 128)               86528     \n",
      "                                                                 \n",
      " dropout (Dropout)           (None, 128)               0         \n",
      "                                                                 \n",
      " dense (Dense)               (None, 64)                8256      \n",
      "                                                                 \n",
      " dropout_1 (Dropout)         (None, 64)                0         \n",
      "                                                                 \n",
      " dense_1 (Dense)             (None, 2)                 130       \n",
      "                                                                 \n",
      "=================================================================\n",
      "Total params: 94,914\n",
      "Trainable params: 94,914\n",
      "Non-trainable params: 0\n",
      "_________________________________________________________________\n"
     ]
    }
   ],
   "source": [
    "model = Sequential()\n",
    "model.add(LSTM(128, input_shape=(X_train.shape[1], X_train.shape[2]), return_sequences=False))\n",
    "model.add(Dropout(0.3))\n",
    "model.add(Dense(64, activation=\"relu\"))\n",
    "model.add(Dropout(0.3))\n",
    "model.add(Dense(y.shape[1], activation=\"softmax\"))\n",
    "\n",
    "model.compile(loss=\"categorical_crossentropy\", optimizer=\"adam\", metrics=[\"accuracy\"])\n",
    "model.summary()\n"
   ]
  },
  {
   "cell_type": "code",
   "execution_count": 6,
   "id": "b016eea1-7424-4227-89ba-2ea67a613145",
   "metadata": {},
   "outputs": [
    {
     "name": "stdout",
     "output_type": "stream",
     "text": [
      "Epoch 1/25\n",
      "100/100 [==============================] - 18s 155ms/step - loss: 0.6098 - accuracy: 0.6738 - val_loss: 0.4136 - val_accuracy: 0.8040\n",
      "Epoch 2/25\n",
      "100/100 [==============================] - 15s 147ms/step - loss: 0.3827 - accuracy: 0.8300 - val_loss: 0.3381 - val_accuracy: 0.8492\n",
      "Epoch 3/25\n",
      "100/100 [==============================] - 15s 148ms/step - loss: 0.3380 - accuracy: 0.8564 - val_loss: 0.2473 - val_accuracy: 0.8995\n",
      "Epoch 4/25\n",
      "100/100 [==============================] - 16s 155ms/step - loss: 0.1829 - accuracy: 0.9307 - val_loss: 0.2194 - val_accuracy: 0.8945\n",
      "Epoch 5/25\n",
      "100/100 [==============================] - 15s 149ms/step - loss: 0.1800 - accuracy: 0.9219 - val_loss: 0.2198 - val_accuracy: 0.9146\n",
      "Epoch 6/25\n",
      "100/100 [==============================] - 15s 153ms/step - loss: 0.1251 - accuracy: 0.9572 - val_loss: 0.1594 - val_accuracy: 0.9497\n",
      "Epoch 7/25\n",
      "100/100 [==============================] - 15s 150ms/step - loss: 0.1377 - accuracy: 0.9408 - val_loss: 0.1280 - val_accuracy: 0.9598\n",
      "Epoch 8/25\n",
      "100/100 [==============================] - 16s 157ms/step - loss: 0.0648 - accuracy: 0.9786 - val_loss: 0.1280 - val_accuracy: 0.9447\n",
      "Epoch 9/25\n",
      "100/100 [==============================] - 15s 154ms/step - loss: 0.0482 - accuracy: 0.9836 - val_loss: 0.0751 - val_accuracy: 0.9548\n",
      "Epoch 10/25\n",
      "100/100 [==============================] - 15s 151ms/step - loss: 0.0249 - accuracy: 0.9937 - val_loss: 0.0795 - val_accuracy: 0.9749\n",
      "Epoch 11/25\n",
      "100/100 [==============================] - 16s 156ms/step - loss: 0.0661 - accuracy: 0.9761 - val_loss: 0.1179 - val_accuracy: 0.9648\n",
      "Epoch 12/25\n",
      "100/100 [==============================] - 16s 160ms/step - loss: 0.0483 - accuracy: 0.9811 - val_loss: 0.1141 - val_accuracy: 0.9598\n",
      "Epoch 13/25\n",
      "100/100 [==============================] - 18s 180ms/step - loss: 0.0290 - accuracy: 0.9836 - val_loss: 0.1457 - val_accuracy: 0.9497\n"
     ]
    }
   ],
   "source": [
    "from tensorflow.keras.callbacks import EarlyStopping\n",
    "\n",
    "early_stop = EarlyStopping(\n",
    "    monitor='val_accuracy',   # track validation accuracy\n",
    "    patience=3,               # stop if no improvement for 3 epochs\n",
    "    restore_best_weights=True\n",
    ")\n",
    "\n",
    "history = model.fit(\n",
    "    X_train, y_train,\n",
    "    epochs=25,\n",
    "    batch_size=8,\n",
    "    validation_data=(X_test, y_test),\n",
    "    callbacks=[early_stop]\n",
    ")\n"
   ]
  },
  {
   "cell_type": "code",
   "execution_count": 7,
   "id": "f1f72cc6-a053-462e-8326-d87d4f95f051",
   "metadata": {},
   "outputs": [
    {
     "data": {
      "image/png": "[encoded data removed]",
      "text/plain": [
       "<Figure size 640x480 with 1 Axes>"
      ]
     },
     "metadata": {},
     "output_type": "display_data"
    }
   ],
   "source": [
    "plt.plot(history.history['accuracy'], label=\"Train Acc\")\n",
    "plt.plot(history.history['val_accuracy'], label=\"Val Acc\")\n",
    "plt.xlabel(\"Epochs\")\n",
    "plt.ylabel(\"Accuracy\")\n",
    "plt.legend()\n",
    "plt.show()"
   ]
  },
  {
   "cell_type": "code",
   "execution_count": 8,
   "id": "929ade2c-1d16-4d58-b140-4ff92348f43a",
   "metadata": {},
   "outputs": [
    {
     "name": "stdout",
     "output_type": "stream",
     "text": [
      "7/7 [==============================] - 1s 67ms/step - loss: 0.0795 - accuracy: 0.9749\n",
      "Test Accuracy: 97.49%\n"
     ]
    }
   ],
   "source": [
    "loss, acc = model.evaluate(X_test, y_test)\n",
    "print(f\"Test Accuracy: {acc*100:.2f}%\")\n"
   ]
  },
  {
   "cell_type": "code",
   "execution_count": 9,
   "id": "05e52389-aea0-4b21-91d4-a2c83ab2c699",
   "metadata": {},
   "outputs": [],
   "source": [
    "import numpy as np\n",
    "import librosa\n",
    "\n",
    "def predict_genre(file_path, model, encoder, sr=22050, clip_duration=10, n_mfcc=40):\n",
    "    \"\"\"\n",
    "    Predict genre of a new song using trained LSTM model.\n",
    "    \"\"\"\n",
    "    clip_samples = sr * clip_duration\n",
    "    predictions = []\n",
    "\n",
    "    # Load song\n",
    "    signal, _ = librosa.load(file_path, sr=sr)\n",
    "\n",
    "    # Split into clips\n",
    "    for start in range(0, len(signal), clip_samples):\n",
    "        clip = signal[start:start+clip_samples]\n",
    "\n",
    "        if len(clip) == clip_samples:\n",
    "            # Extract MFCC\n",
    "            mfcc = librosa.feature.mfcc(y=clip, sr=sr, n_mfcc=n_mfcc)\n",
    "            mfcc = mfcc.T  # (timesteps, features)\n",
    "\n",
    "            # Reshape for LSTM (1 sample, timesteps, features)\n",
    "            mfcc = np.expand_dims(mfcc, axis=0)\n",
    "\n",
    "            # Predict\n",
    "            pred = model.predict(mfcc, verbose=0)\n",
    "            pred_class = np.argmax(pred, axis=1)[0]\n",
    "            predictions.append(pred_class)\n",
    "\n",
    "    # Majority vote\n",
    "    if len(predictions) > 0:\n",
    "        final_class = max(set(predictions), key=predictions.count)\n",
    "        return encoder.inverse_transform([final_class])[0]\n",
    "    else:\n",
    "        return \"Not enough data\"\n"
   ]
  },
  {
   "cell_type": "code",
   "execution_count": 10,
   "id": "7e17bf7b-9811-49d1-aac0-4cb750a7ee60",
   "metadata": {},
   "outputs": [
    {
     "name": "stdout",
     "output_type": "stream",
     "text": [
      "Predicted Genre: melody\n"
     ]
    }
   ],
   "source": [
    "# Example usage:\n",
    "file_path = r\"C:\\Users\\USER\\Downloads\\Thangapoovey.mp3\"   # put your test song path here\n",
    "predicted_genre = predict_genre(file_path, model, encoder)\n",
    "print(\"Predicted Genre:\", predicted_genre)\n"
   ]
  },
  {
   "cell_type": "code",
   "execution_count": 11,
   "id": "a4e0892b-0514-4f1a-8f03-07d4db5bde35",
   "metadata": {},
   "outputs": [
    {
     "name": "stdout",
     "output_type": "stream",
     "text": [
      "Predicted Genre: rap\n"
     ]
    }
   ],
   "source": [
    "# Example usage:\n",
    "file_path = r\"C:\\Users\\USER\\Downloads\\Powerhouse.mp3\"   # put your test song path here\n",
    "predicted_genre = predict_genre(file_path, model, encoder)\n",
    "print(\"Predicted Genre:\", predicted_genre)\n"
   ]
  },
  {
   "cell_type": "code",
   "execution_count": null,
   "id": "1d58a767-1a31-4d0e-92b1-5830690857fb",
   "metadata": {},
   "outputs": [],
   "source": []
  }
 ],
 "metadata": {
  "kernelspec": {
   "display_name": "Python (LakshmiDL)",
   "language": "python",
   "name": "lakshmidl"
  },
  "language_info": {
   "codemirror_mode": {
    "name": "ipython",
    "version": 3
   },
   "file_extension": ".py",
   "mimetype": "text/x-python",
   "name": "python",
   "nbconvert_exporter": "python",
   "pygments_lexer": "ipython3",
   "version": "3.10.18"
  }
 },
 "nbformat": 4,
 "nbformat_minor": 5
}
