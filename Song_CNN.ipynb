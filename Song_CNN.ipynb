{
  "cells": [
    {
      "cell_type": "markdown",
      "metadata": {
        "id": "view-in-github",
        "colab_type": "text"
      },
      "source": [
        "<a href=\"https://colab.research.google.com/github/21-LAKSHMI/AI-AND-ML/blob/main/Song_CNN.ipynb\" target=\"_parent\"><img src=\"https://colab.research.google.com/assets/colab-badge.svg\" alt=\"Open In Colab\"/></a>"
      ]
    },
    {
      "cell_type": "code",
      "execution_count": 1,
      "metadata": {
        "colab": {
          "base_uri": "https://localhost:8080/"
        },
        "id": "0XVAJ9Lit91G",
        "outputId": "b9ef4905-8a34-46d8-d63b-ad4cdbc69041"
      },
      "outputs": [
        {
          "output_type": "stream",
          "name": "stdout",
          "text": [
            "Collecting demucs\n",
            "  Downloading demucs-4.0.1.tar.gz (1.2 MB)\n",
            "\u001b[2K     \u001b[90m━━━━━━━━━━━━━━━━━━━━━━━━━━━━━━━━━━━━━━━━\u001b[0m \u001b[32m1.2/1.2 MB\u001b[0m \u001b[31m20.6 MB/s\u001b[0m eta \u001b[36m0:00:00\u001b[0m\n",
            "\u001b[?25h  Preparing metadata (setup.py) ... \u001b[?25l\u001b[?25hdone\n",
            "Collecting dora-search (from demucs)\n",
            "  Downloading dora_search-0.1.12.tar.gz (87 kB)\n",
            "\u001b[2K     \u001b[90m━━━━━━━━━━━━━━━━━━━━━━━━━━━━━━━━━━━━━━━━\u001b[0m \u001b[32m87.1/87.1 kB\u001b[0m \u001b[31m5.2 MB/s\u001b[0m eta \u001b[36m0:00:00\u001b[0m\n",
            "\u001b[?25h  Installing build dependencies ... \u001b[?25l\u001b[?25hdone\n",
            "  Getting requirements to build wheel ... \u001b[?25l\u001b[?25hdone\n",
            "  Preparing metadata (pyproject.toml) ... \u001b[?25l\u001b[?25hdone\n",
            "Requirement already satisfied: einops in /usr/local/lib/python3.12/dist-packages (from demucs) (0.8.1)\n",
            "Collecting julius>=0.2.3 (from demucs)\n",
            "  Downloading julius-0.2.7.tar.gz (59 kB)\n",
            "\u001b[2K     \u001b[90m━━━━━━━━━━━━━━━━━━━━━━━━━━━━━━━━━━━━━━━━\u001b[0m \u001b[32m59.6/59.6 kB\u001b[0m \u001b[31m5.4 MB/s\u001b[0m eta \u001b[36m0:00:00\u001b[0m\n",
            "\u001b[?25h  Preparing metadata (setup.py) ... \u001b[?25l\u001b[?25hdone\n",
            "Collecting lameenc>=1.2 (from demucs)\n",
            "  Downloading lameenc-1.8.1-cp312-cp312-manylinux_2_17_x86_64.manylinux2014_x86_64.manylinux_2_28_x86_64.whl.metadata (9.9 kB)\n",
            "Collecting openunmix (from demucs)\n",
            "  Downloading openunmix-1.3.0-py3-none-any.whl.metadata (17 kB)\n",
            "Requirement already satisfied: pyyaml in /usr/local/lib/python3.12/dist-packages (from demucs) (6.0.2)\n",
            "Requirement already satisfied: torch>=1.8.1 in /usr/local/lib/python3.12/dist-packages (from demucs) (2.8.0+cu126)\n",
            "Requirement already satisfied: torchaudio>=0.8 in /usr/local/lib/python3.12/dist-packages (from demucs) (2.8.0+cu126)\n",
            "Requirement already satisfied: tqdm in /usr/local/lib/python3.12/dist-packages (from demucs) (4.67.1)\n",
            "Requirement already satisfied: filelock in /usr/local/lib/python3.12/dist-packages (from torch>=1.8.1->demucs) (3.19.1)\n",
            "Requirement already satisfied: typing-extensions>=4.10.0 in /usr/local/lib/python3.12/dist-packages (from torch>=1.8.1->demucs) (4.15.0)\n",
            "Requirement already satisfied: setuptools in /usr/local/lib/python3.12/dist-packages (from torch>=1.8.1->demucs) (75.2.0)\n",
            "Requirement already satisfied: sympy>=1.13.3 in /usr/local/lib/python3.12/dist-packages (from torch>=1.8.1->demucs) (1.13.3)\n",
            "Requirement already satisfied: networkx in /usr/local/lib/python3.12/dist-packages (from torch>=1.8.1->demucs) (3.5)\n",
            "Requirement already satisfied: jinja2 in /usr/local/lib/python3.12/dist-packages (from torch>=1.8.1->demucs) (3.1.6)\n",
            "Requirement already satisfied: fsspec in /usr/local/lib/python3.12/dist-packages (from torch>=1.8.1->demucs) (2025.3.0)\n",
            "Requirement already satisfied: nvidia-cuda-nvrtc-cu12==12.6.77 in /usr/local/lib/python3.12/dist-packages (from torch>=1.8.1->demucs) (12.6.77)\n",
            "Requirement already satisfied: nvidia-cuda-runtime-cu12==12.6.77 in /usr/local/lib/python3.12/dist-packages (from torch>=1.8.1->demucs) (12.6.77)\n",
            "Requirement already satisfied: nvidia-cuda-cupti-cu12==12.6.80 in /usr/local/lib/python3.12/dist-packages (from torch>=1.8.1->demucs) (12.6.80)\n",
            "Requirement already satisfied: nvidia-cudnn-cu12==9.10.2.21 in /usr/local/lib/python3.12/dist-packages (from torch>=1.8.1->demucs) (9.10.2.21)\n",
            "Requirement already satisfied: nvidia-cublas-cu12==12.6.4.1 in /usr/local/lib/python3.12/dist-packages (from torch>=1.8.1->demucs) (12.6.4.1)\n",
            "Requirement already satisfied: nvidia-cufft-cu12==11.3.0.4 in /usr/local/lib/python3.12/dist-packages (from torch>=1.8.1->demucs) (11.3.0.4)\n",
            "Requirement already satisfied: nvidia-curand-cu12==10.3.7.77 in /usr/local/lib/python3.12/dist-packages (from torch>=1.8.1->demucs) (10.3.7.77)\n",
            "Requirement already satisfied: nvidia-cusolver-cu12==11.7.1.2 in /usr/local/lib/python3.12/dist-packages (from torch>=1.8.1->demucs) (11.7.1.2)\n",
            "Requirement already satisfied: nvidia-cusparse-cu12==12.5.4.2 in /usr/local/lib/python3.12/dist-packages (from torch>=1.8.1->demucs) (12.5.4.2)\n",
            "Requirement already satisfied: nvidia-cusparselt-cu12==0.7.1 in /usr/local/lib/python3.12/dist-packages (from torch>=1.8.1->demucs) (0.7.1)\n",
            "Requirement already satisfied: nvidia-nccl-cu12==2.27.3 in /usr/local/lib/python3.12/dist-packages (from torch>=1.8.1->demucs) (2.27.3)\n",
            "Requirement already satisfied: nvidia-nvtx-cu12==12.6.77 in /usr/local/lib/python3.12/dist-packages (from torch>=1.8.1->demucs) (12.6.77)\n",
            "Requirement already satisfied: nvidia-nvjitlink-cu12==12.6.85 in /usr/local/lib/python3.12/dist-packages (from torch>=1.8.1->demucs) (12.6.85)\n",
            "Requirement already satisfied: nvidia-cufile-cu12==1.11.1.6 in /usr/local/lib/python3.12/dist-packages (from torch>=1.8.1->demucs) (1.11.1.6)\n",
            "Requirement already satisfied: triton==3.4.0 in /usr/local/lib/python3.12/dist-packages (from torch>=1.8.1->demucs) (3.4.0)\n",
            "Requirement already satisfied: omegaconf in /usr/local/lib/python3.12/dist-packages (from dora-search->demucs) (2.3.0)\n",
            "Collecting retrying (from dora-search->demucs)\n",
            "  Downloading retrying-1.4.2-py3-none-any.whl.metadata (5.5 kB)\n",
            "Collecting submitit (from dora-search->demucs)\n",
            "  Downloading submitit-1.5.3-py3-none-any.whl.metadata (7.9 kB)\n",
            "Collecting treetable (from dora-search->demucs)\n",
            "  Downloading treetable-0.2.6-py3-none-any.whl.metadata (5.3 kB)\n",
            "Requirement already satisfied: numpy in /usr/local/lib/python3.12/dist-packages (from openunmix->demucs) (2.0.2)\n",
            "Requirement already satisfied: mpmath<1.4,>=1.1.0 in /usr/local/lib/python3.12/dist-packages (from sympy>=1.13.3->torch>=1.8.1->demucs) (1.3.0)\n",
            "Requirement already satisfied: MarkupSafe>=2.0 in /usr/local/lib/python3.12/dist-packages (from jinja2->torch>=1.8.1->demucs) (3.0.2)\n",
            "Requirement already satisfied: antlr4-python3-runtime==4.9.* in /usr/local/lib/python3.12/dist-packages (from omegaconf->dora-search->demucs) (4.9.3)\n",
            "Requirement already satisfied: cloudpickle>=1.2.1 in /usr/local/lib/python3.12/dist-packages (from submitit->dora-search->demucs) (3.1.1)\n",
            "Downloading lameenc-1.8.1-cp312-cp312-manylinux_2_17_x86_64.manylinux2014_x86_64.manylinux_2_28_x86_64.whl (249 kB)\n",
            "\u001b[2K   \u001b[90m━━━━━━━━━━━━━━━━━━━━━━━━━━━━━━━━━━━━━━━━\u001b[0m \u001b[32m249.1/249.1 kB\u001b[0m \u001b[31m26.1 MB/s\u001b[0m eta \u001b[36m0:00:00\u001b[0m\n",
            "\u001b[?25hDownloading openunmix-1.3.0-py3-none-any.whl (40 kB)\n",
            "\u001b[2K   \u001b[90m━━━━━━━━━━━━━━━━━━━━━━━━━━━━━━━━━━━━━━━━\u001b[0m \u001b[32m40.0/40.0 kB\u001b[0m \u001b[31m4.1 MB/s\u001b[0m eta \u001b[36m0:00:00\u001b[0m\n",
            "\u001b[?25hDownloading retrying-1.4.2-py3-none-any.whl (10 kB)\n",
            "Downloading submitit-1.5.3-py3-none-any.whl (75 kB)\n",
            "\u001b[2K   \u001b[90m━━━━━━━━━━━━━━━━━━━━━━━━━━━━━━━━━━━━━━━━\u001b[0m \u001b[32m75.5/75.5 kB\u001b[0m \u001b[31m8.0 MB/s\u001b[0m eta \u001b[36m0:00:00\u001b[0m\n",
            "\u001b[?25hDownloading treetable-0.2.6-py3-none-any.whl (7.4 kB)\n",
            "Building wheels for collected packages: demucs, julius, dora-search\n",
            "  Building wheel for demucs (setup.py) ... \u001b[?25l\u001b[?25hdone\n",
            "  Created wheel for demucs: filename=demucs-4.0.1-py3-none-any.whl size=78388 sha256=63032380a689a3909eb592bcf7f706e8c8c9bb2e69df9d36ec2e3239e51fb418\n",
            "  Stored in directory: /root/.cache/pip/wheels/1b/0c/20/a3b3daa1f9b65c8b0445729f94740ec335d0f86f1066c5c414\n",
            "  Building wheel for julius (setup.py) ... \u001b[?25l\u001b[?25hdone\n",
            "  Created wheel for julius: filename=julius-0.2.7-py3-none-any.whl size=21870 sha256=068c984faaed55cdc7e6bc53fd877738b15acc14b3ef3f868d267a0743fb7ad2\n",
            "  Stored in directory: /root/.cache/pip/wheels/de/c1/ca/544dafe48401e8e2e17064dfe465a390fca9e8720ffa12e744\n",
            "  Building wheel for dora-search (pyproject.toml) ... \u001b[?25l\u001b[?25hdone\n",
            "  Created wheel for dora-search: filename=dora_search-0.1.12-py3-none-any.whl size=75195 sha256=b356f1d61c150466f1625a6f5a3509afc4c2913ed61eb156fb14f7e14dabcbe9\n",
            "  Stored in directory: /root/.cache/pip/wheels/55/40/4c/3478187386b56625ab5aa8a9070ff1eea704ddb27d15abe73f\n",
            "Successfully built demucs julius dora-search\n",
            "Installing collected packages: lameenc, treetable, submitit, retrying, julius, dora-search, openunmix, demucs\n",
            "Successfully installed demucs-4.0.1 dora-search-0.1.12 julius-0.2.7 lameenc-1.8.1 openunmix-1.3.0 retrying-1.4.2 submitit-1.5.3 treetable-0.2.6\n"
          ]
        }
      ],
      "source": [
        "pip install demucs"
      ]
    },
    {
      "cell_type": "code",
      "execution_count": 2,
      "metadata": {
        "colab": {
          "base_uri": "https://localhost:8080/"
        },
        "id": "m43kI3zdplzY",
        "outputId": "77b9b49c-fde4-4618-8d97-b535bc78153d"
      },
      "outputs": [
        {
          "output_type": "stream",
          "name": "stdout",
          "text": [
            "✅ Extracted all songs to /content/songs\n",
            "🎶 Found 21 songs in dataset.\n",
            "🔄 Processing 1/21: Engeyum Eppothum.mp3\n",
            "Downloading: \"https://dl.fbaipublicfiles.com/demucs/hybrid_transformer/f7e0c4bc-ba3fe64a.th\" to /root/.cache/torch/hub/checkpoints/f7e0c4bc-ba3fe64a.th\n"
          ]
        },
        {
          "output_type": "stream",
          "name": "stderr",
          "text": [
            "100%|██████████| 80.2M/80.2M [00:00<00:00, 98.8MB/s]\n"
          ]
        },
        {
          "output_type": "stream",
          "name": "stdout",
          "text": [
            "Downloading: \"https://dl.fbaipublicfiles.com/demucs/hybrid_transformer/d12395a8-e57c48e6.th\" to /root/.cache/torch/hub/checkpoints/d12395a8-e57c48e6.th\n"
          ]
        },
        {
          "output_type": "stream",
          "name": "stderr",
          "text": [
            "100%|██████████| 80.2M/80.2M [00:00<00:00, 178MB/s]\n"
          ]
        },
        {
          "output_type": "stream",
          "name": "stdout",
          "text": [
            "Downloading: \"https://dl.fbaipublicfiles.com/demucs/hybrid_transformer/92cfc3b6-ef3bcb9c.th\" to /root/.cache/torch/hub/checkpoints/92cfc3b6-ef3bcb9c.th\n"
          ]
        },
        {
          "output_type": "stream",
          "name": "stderr",
          "text": [
            "100%|██████████| 80.2M/80.2M [00:00<00:00, 121MB/s] \n"
          ]
        },
        {
          "output_type": "stream",
          "name": "stdout",
          "text": [
            "Downloading: \"https://dl.fbaipublicfiles.com/demucs/hybrid_transformer/04573f0d-f3cf25b2.th\" to /root/.cache/torch/hub/checkpoints/04573f0d-f3cf25b2.th\n"
          ]
        },
        {
          "output_type": "stream",
          "name": "stderr",
          "text": [
            "100%|██████████| 80.2M/80.2M [00:00<00:00, 165MB/s]\n"
          ]
        },
        {
          "output_type": "stream",
          "name": "stdout",
          "text": [
            "Selected model is a bag of 4 models. You will see that many progress bars per track.\n",
            "Separated tracks will be stored in /content/output_O/htdemucs_ft\n",
            "Separating track /content/songs/Rap song/Engeyum Eppothum.mp3\n"
          ]
        },
        {
          "output_type": "stream",
          "name": "stderr",
          "text": [
            "100%|████████████████████████████████████████████████████████████████████████| 292.5/292.5 [00:17<00:00, 16.79seconds/s]\n",
            "100%|████████████████████████████████████████████████████████████████████████| 292.5/292.5 [00:11<00:00, 26.42seconds/s]\n",
            "100%|████████████████████████████████████████████████████████████████████████| 292.5/292.5 [00:11<00:00, 26.23seconds/s]\n",
            "100%|████████████████████████████████████████████████████████████████████████| 292.5/292.5 [00:11<00:00, 26.08seconds/s]\n"
          ]
        },
        {
          "output_type": "stream",
          "name": "stdout",
          "text": [
            "🔄 Processing 2/21: Kappe-Varroh.mp3\n",
            "Selected model is a bag of 4 models. You will see that many progress bars per track.\n",
            "Separated tracks will be stored in /content/output_O/htdemucs_ft\n",
            "Separating track /content/songs/Rap song/Kappe-Varroh.mp3\n"
          ]
        },
        {
          "output_type": "stream",
          "name": "stderr",
          "text": [
            "100%|██████████████████████████████████████████████| 222.29999999999998/222.29999999999998 [00:08<00:00, 25.54seconds/s]\n",
            "100%|██████████████████████████████████████████████| 222.29999999999998/222.29999999999998 [00:08<00:00, 25.87seconds/s]\n",
            "100%|██████████████████████████████████████████████| 222.29999999999998/222.29999999999998 [00:08<00:00, 25.66seconds/s]\n",
            "100%|██████████████████████████████████████████████| 222.29999999999998/222.29999999999998 [00:08<00:00, 25.40seconds/s]\n"
          ]
        },
        {
          "output_type": "stream",
          "name": "stdout",
          "text": [
            "🔄 Processing 3/21: Aathichudi.mp3\n",
            "Selected model is a bag of 4 models. You will see that many progress bars per track.\n",
            "Separated tracks will be stored in /content/output_O/htdemucs_ft\n",
            "Separating track /content/songs/Rap song/Aathichudi.mp3\n"
          ]
        },
        {
          "output_type": "stream",
          "name": "stderr",
          "text": [
            "100%|████████████████████████████████████████████████████████████████████████| 257.4/257.4 [00:10<00:00, 25.52seconds/s]\n",
            "100%|████████████████████████████████████████████████████████████████████████| 257.4/257.4 [00:10<00:00, 25.56seconds/s]\n",
            "100%|████████████████████████████████████████████████████████████████████████| 257.4/257.4 [00:10<00:00, 25.43seconds/s]\n",
            "100%|████████████████████████████████████████████████████████████████████████| 257.4/257.4 [00:10<00:00, 25.56seconds/s]\n"
          ]
        },
        {
          "output_type": "stream",
          "name": "stdout",
          "text": [
            "🔄 Processing 4/21: Pakkam-Vanthu.mp3\n",
            "Selected model is a bag of 4 models. You will see that many progress bars per track.\n",
            "Separated tracks will be stored in /content/output_O/htdemucs_ft\n",
            "Separating track /content/songs/Rap song/Pakkam-Vanthu.mp3\n"
          ]
        },
        {
          "output_type": "stream",
          "name": "stderr",
          "text": [
            "100%|████████████████████████████████████████████████████████████████████████| 257.4/257.4 [00:10<00:00, 25.53seconds/s]\n",
            "100%|████████████████████████████████████████████████████████████████████████| 257.4/257.4 [00:10<00:00, 25.45seconds/s]\n",
            "100%|████████████████████████████████████████████████████████████████████████| 257.4/257.4 [00:10<00:00, 25.41seconds/s]\n",
            "100%|████████████████████████████████████████████████████████████████████████| 257.4/257.4 [00:10<00:00, 25.36seconds/s]\n"
          ]
        },
        {
          "output_type": "stream",
          "name": "stdout",
          "text": [
            "🔄 Processing 5/21: Paiya Dei.mp3\n",
            "Selected model is a bag of 4 models. You will see that many progress bars per track.\n",
            "Separated tracks will be stored in /content/output_O/htdemucs_ft\n",
            "Separating track /content/songs/Rap song/Paiya Dei.mp3\n"
          ]
        },
        {
          "output_type": "stream",
          "name": "stderr",
          "text": [
            "100%|██████████████████████████████████████████████████████████████████████| 157.95/157.95 [00:06<00:00, 25.34seconds/s]\n",
            "100%|██████████████████████████████████████████████████████████████████████| 157.95/157.95 [00:06<00:00, 25.80seconds/s]\n",
            "100%|██████████████████████████████████████████████████████████████████████| 157.95/157.95 [00:06<00:00, 25.46seconds/s]\n",
            "100%|██████████████████████████████████████████████████████████████████████| 157.95/157.95 [00:06<00:00, 25.48seconds/s]\n"
          ]
        },
        {
          "output_type": "stream",
          "name": "stdout",
          "text": [
            "🔄 Processing 6/21: Vaadi-Pulla-Vaadi.mp3\n",
            "Selected model is a bag of 4 models. You will see that many progress bars per track.\n",
            "Separated tracks will be stored in /content/output_O/htdemucs_ft\n",
            "Separating track /content/songs/Rap song/Vaadi-Pulla-Vaadi.mp3\n"
          ]
        },
        {
          "output_type": "stream",
          "name": "stderr",
          "text": [
            "100%|██████████████████████████████████████████████████████████████████████| 286.65/286.65 [00:11<00:00, 25.42seconds/s]\n",
            "100%|██████████████████████████████████████████████████████████████████████| 286.65/286.65 [00:11<00:00, 25.42seconds/s]\n",
            "100%|██████████████████████████████████████████████████████████████████████| 286.65/286.65 [00:11<00:00, 25.46seconds/s]\n",
            "100%|██████████████████████████████████████████████████████████████████████| 286.65/286.65 [00:11<00:00, 25.61seconds/s]\n"
          ]
        },
        {
          "output_type": "stream",
          "name": "stdout",
          "text": [
            "🔄 Processing 7/21: Rekka-Rekka-MassTamilan.dev.mp3\n",
            "Selected model is a bag of 4 models. You will see that many progress bars per track.\n",
            "Separated tracks will be stored in /content/output_O/htdemucs_ft\n",
            "Separating track /content/songs/Rap song/Rekka-Rekka-MassTamilan.dev.mp3\n"
          ]
        },
        {
          "output_type": "stream",
          "name": "stderr",
          "text": [
            "100%|████████████████████████████████████████████████████████████████████████| 304.2/304.2 [00:11<00:00, 25.67seconds/s]\n",
            "100%|████████████████████████████████████████████████████████████████████████| 304.2/304.2 [00:11<00:00, 25.51seconds/s]\n",
            "100%|████████████████████████████████████████████████████████████████████████| 304.2/304.2 [00:12<00:00, 25.26seconds/s]\n",
            "100%|████████████████████████████████████████████████████████████████████████| 304.2/304.2 [00:11<00:00, 25.45seconds/s]\n"
          ]
        },
        {
          "output_type": "stream",
          "name": "stdout",
          "text": [
            "🔄 Processing 8/21: 170CM.mp3\n",
            "Selected model is a bag of 4 models. You will see that many progress bars per track.\n",
            "Separated tracks will be stored in /content/output_O/htdemucs_ft\n",
            "Separating track /content/songs/Rap song/170CM.mp3\n"
          ]
        },
        {
          "output_type": "stream",
          "name": "stderr",
          "text": [
            "100%|██████████████████████████████████████████████| 134.54999999999998/134.54999999999998 [00:05<00:00, 25.28seconds/s]\n",
            "100%|██████████████████████████████████████████████| 134.54999999999998/134.54999999999998 [00:05<00:00, 25.90seconds/s]\n",
            "100%|██████████████████████████████████████████████| 134.54999999999998/134.54999999999998 [00:05<00:00, 25.48seconds/s]\n",
            "100%|██████████████████████████████████████████████| 134.54999999999998/134.54999999999998 [00:05<00:00, 25.71seconds/s]\n"
          ]
        },
        {
          "output_type": "stream",
          "name": "stdout",
          "text": [
            "🔄 Processing 9/21: Naan Kudikka Poren.mp3\n",
            "Selected model is a bag of 4 models. You will see that many progress bars per track.\n",
            "Separated tracks will be stored in /content/output_O/htdemucs_ft\n",
            "Separating track /content/songs/Rap song/Naan Kudikka Poren.mp3\n"
          ]
        },
        {
          "output_type": "stream",
          "name": "stderr",
          "text": [
            "100%|██████████████████████████████████████████████████████████████████████| 263.25/263.25 [00:10<00:00, 25.26seconds/s]\n",
            "100%|██████████████████████████████████████████████████████████████████████| 263.25/263.25 [00:10<00:00, 25.31seconds/s]\n",
            "100%|██████████████████████████████████████████████████████████████████████| 263.25/263.25 [00:10<00:00, 25.46seconds/s]\n",
            "100%|██████████████████████████████████████████████████████████████████████| 263.25/263.25 [00:10<00:00, 25.66seconds/s]\n"
          ]
        },
        {
          "output_type": "stream",
          "name": "stdout",
          "text": [
            "🔄 Processing 10/21: His Name is John.mp3\n",
            "Selected model is a bag of 4 models. You will see that many progress bars per track.\n",
            "Separated tracks will be stored in /content/output_O/htdemucs_ft\n",
            "Separating track /content/songs/Rap song/His Name is John.mp3\n"
          ]
        },
        {
          "output_type": "stream",
          "name": "stderr",
          "text": [
            "100%|████████████████████████████████████████████████████████████████████████| 234.0/234.0 [00:09<00:00, 25.53seconds/s]\n",
            "100%|████████████████████████████████████████████████████████████████████████| 234.0/234.0 [00:09<00:00, 25.77seconds/s]\n",
            "100%|████████████████████████████████████████████████████████████████████████| 234.0/234.0 [00:09<00:00, 25.60seconds/s]\n",
            "100%|████████████████████████████████████████████████████████████████████████| 234.0/234.0 [00:09<00:00, 25.28seconds/s]\n"
          ]
        },
        {
          "output_type": "stream",
          "name": "stdout",
          "text": [
            "🔄 Processing 11/21: Semma-Weightu-MassTamilan.io.mp3\n",
            "Selected model is a bag of 4 models. You will see that many progress bars per track.\n",
            "Separated tracks will be stored in /content/output_O/htdemucs_ft\n",
            "Separating track /content/songs/Rap song/Semma-Weightu-MassTamilan.io.mp3\n"
          ]
        },
        {
          "output_type": "stream",
          "name": "stderr",
          "text": [
            "100%|████████████████████████████████████████████████████████████████████████| 304.2/304.2 [00:11<00:00, 25.58seconds/s]\n",
            "100%|████████████████████████████████████████████████████████████████████████| 304.2/304.2 [00:11<00:00, 25.47seconds/s]\n",
            "100%|████████████████████████████████████████████████████████████████████████| 304.2/304.2 [00:11<00:00, 25.38seconds/s]\n",
            "100%|████████████████████████████████████████████████████████████████████████| 304.2/304.2 [00:11<00:00, 25.58seconds/s]\n"
          ]
        },
        {
          "output_type": "stream",
          "name": "stdout",
          "text": [
            "🔄 Processing 12/21: Madai-Thiranthu-MassTamilan.com.mp3\n",
            "Selected model is a bag of 4 models. You will see that many progress bars per track.\n",
            "Separated tracks will be stored in /content/output_O/htdemucs_ft\n",
            "Separating track /content/songs/Rap song/Madai-Thiranthu-MassTamilan.com.mp3\n"
          ]
        },
        {
          "output_type": "stream",
          "name": "stderr",
          "text": [
            "100%|██████████████████████████████████████████████| 251.54999999999998/251.54999999999998 [00:09<00:00, 25.66seconds/s]\n",
            "100%|██████████████████████████████████████████████| 251.54999999999998/251.54999999999998 [00:09<00:00, 25.62seconds/s]\n",
            "100%|██████████████████████████████████████████████| 251.54999999999998/251.54999999999998 [00:09<00:00, 25.40seconds/s]\n",
            "100%|██████████████████████████████████████████████| 251.54999999999998/251.54999999999998 [00:09<00:00, 25.41seconds/s]\n"
          ]
        },
        {
          "output_type": "stream",
          "name": "stdout",
          "text": [
            "🔄 Processing 13/21: Kaathu Mela.mp3\n",
            "Selected model is a bag of 4 models. You will see that many progress bars per track.\n",
            "Separated tracks will be stored in /content/output_O/htdemucs_ft\n",
            "Separating track /content/songs/Rap song/Kaathu Mela.mp3\n"
          ]
        },
        {
          "output_type": "stream",
          "name": "stderr",
          "text": [
            "100%|████████████████████████████████████████████████████████████████████████| 128.7/128.7 [00:05<00:00, 25.56seconds/s]\n",
            "100%|████████████████████████████████████████████████████████████████████████| 128.7/128.7 [00:05<00:00, 25.71seconds/s]\n",
            "100%|████████████████████████████████████████████████████████████████████████| 128.7/128.7 [00:05<00:00, 25.68seconds/s]\n",
            "100%|████████████████████████████████████████████████████████████████████████| 128.7/128.7 [00:05<00:00, 25.33seconds/s]\n"
          ]
        },
        {
          "output_type": "stream",
          "name": "stdout",
          "text": [
            "🔄 Processing 14/21: Champagini.mp3\n",
            "Selected model is a bag of 4 models. You will see that many progress bars per track.\n",
            "Separated tracks will be stored in /content/output_O/htdemucs_ft\n",
            "Separating track /content/songs/Rap song/Champagini.mp3\n"
          ]
        },
        {
          "output_type": "stream",
          "name": "stderr",
          "text": [
            "100%|████████████████████████████████████████████████████████████████████████| 117.0/117.0 [00:04<00:00, 25.11seconds/s]\n",
            "100%|████████████████████████████████████████████████████████████████████████| 117.0/117.0 [00:04<00:00, 25.37seconds/s]\n",
            "100%|████████████████████████████████████████████████████████████████████████| 117.0/117.0 [00:04<00:00, 25.41seconds/s]\n",
            "100%|████████████████████████████████████████████████████████████████████████| 117.0/117.0 [00:04<00:00, 25.46seconds/s]\n"
          ]
        },
        {
          "output_type": "stream",
          "name": "stdout",
          "text": [
            "🔄 Processing 15/21: Ini-Illaye-Hum.mp3\n",
            "Selected model is a bag of 4 models. You will see that many progress bars per track.\n",
            "Separated tracks will be stored in /content/output_O/htdemucs_ft\n",
            "Separating track /content/songs/Rap song/Ini-Illaye-Hum.mp3\n"
          ]
        },
        {
          "output_type": "stream",
          "name": "stderr",
          "text": [
            "100%|████████████████████████████████████████████████████████████████████████| 187.2/187.2 [00:07<00:00, 25.37seconds/s]\n",
            "100%|████████████████████████████████████████████████████████████████████████| 187.2/187.2 [00:07<00:00, 25.63seconds/s]\n",
            "100%|████████████████████████████████████████████████████████████████████████| 187.2/187.2 [00:07<00:00, 25.66seconds/s]\n",
            "100%|████████████████████████████████████████████████████████████████████████| 187.2/187.2 [00:07<00:00, 25.50seconds/s]\n"
          ]
        },
        {
          "output_type": "stream",
          "name": "stdout",
          "text": [
            "🔄 Processing 16/21: Sollu Thamizhan (Somberi) - Havoc Brothers  Official Lyrics Video.mp3\n",
            "Selected model is a bag of 4 models. You will see that many progress bars per track.\n",
            "Separated tracks will be stored in /content/output_O/htdemucs_ft\n",
            "Separating track /content/songs/Rap song/Sollu Thamizhan (Somberi) - Havoc Brothers  Official Lyrics Video.mp3\n"
          ]
        },
        {
          "output_type": "stream",
          "name": "stderr",
          "text": [
            "100%|██████████████████████████████████████████████| 251.54999999999998/251.54999999999998 [00:09<00:00, 25.50seconds/s]\n",
            "100%|██████████████████████████████████████████████| 251.54999999999998/251.54999999999998 [00:09<00:00, 25.53seconds/s]\n",
            "100%|██████████████████████████████████████████████| 251.54999999999998/251.54999999999998 [00:09<00:00, 25.42seconds/s]\n",
            "100%|██████████████████████████████████████████████| 251.54999999999998/251.54999999999998 [00:09<00:00, 25.51seconds/s]\n"
          ]
        },
        {
          "output_type": "stream",
          "name": "stdout",
          "text": [
            "🔄 Processing 17/21: Porkkalam-Tamil-Rap.mp3\n",
            "Selected model is a bag of 4 models. You will see that many progress bars per track.\n",
            "Separated tracks will be stored in /content/output_O/htdemucs_ft\n",
            "Separating track /content/songs/Rap song/Porkkalam-Tamil-Rap.mp3\n"
          ]
        },
        {
          "output_type": "stream",
          "name": "stderr",
          "text": [
            "100%|██████████████████████████████████████████████████████████████████████| 263.25/263.25 [00:10<00:00, 25.51seconds/s]\n",
            "100%|██████████████████████████████████████████████████████████████████████| 263.25/263.25 [00:10<00:00, 25.58seconds/s]\n",
            "100%|██████████████████████████████████████████████████████████████████████| 263.25/263.25 [00:10<00:00, 25.33seconds/s]\n",
            "100%|██████████████████████████████████████████████████████████████████████| 263.25/263.25 [00:10<00:00, 25.26seconds/s]\n"
          ]
        },
        {
          "output_type": "stream",
          "name": "stdout",
          "text": [
            "🔄 Processing 18/21: VETRIVEL.mp3\n",
            "Selected model is a bag of 4 models. You will see that many progress bars per track.\n",
            "Separated tracks will be stored in /content/output_O/htdemucs_ft\n",
            "Separating track /content/songs/Rap song/VETRIVEL.mp3\n"
          ]
        },
        {
          "output_type": "stream",
          "name": "stderr",
          "text": [
            "100%|████████████████████████████████████████████████████████████████████████| 152.1/152.1 [00:05<00:00, 25.56seconds/s]\n",
            "100%|████████████████████████████████████████████████████████████████████████| 152.1/152.1 [00:05<00:00, 25.54seconds/s]\n",
            "100%|████████████████████████████████████████████████████████████████████████| 152.1/152.1 [00:05<00:00, 25.50seconds/s]\n",
            "100%|████████████████████████████████████████████████████████████████████████| 152.1/152.1 [00:06<00:00, 25.26seconds/s]\n"
          ]
        },
        {
          "output_type": "stream",
          "name": "stdout",
          "text": [
            "🔄 Processing 19/21: Magudi-Magudi.mp3\n",
            "Selected model is a bag of 4 models. You will see that many progress bars per track.\n",
            "Separated tracks will be stored in /content/output_O/htdemucs_ft\n",
            "Separating track /content/songs/Rap song/Magudi-Magudi.mp3\n"
          ]
        },
        {
          "output_type": "stream",
          "name": "stderr",
          "text": [
            "100%|██████████████████████████████████████████████████████████████████████| 216.45/216.45 [00:08<00:00, 25.29seconds/s]\n",
            "100%|██████████████████████████████████████████████████████████████████████| 216.45/216.45 [00:08<00:00, 25.43seconds/s]\n",
            "100%|██████████████████████████████████████████████████████████████████████| 216.45/216.45 [00:08<00:00, 25.54seconds/s]\n",
            "100%|██████████████████████████████████████████████████████████████████████| 216.45/216.45 [00:08<00:00, 25.46seconds/s]\n"
          ]
        },
        {
          "output_type": "stream",
          "name": "stdout",
          "text": [
            "🔄 Processing 20/21: Club-La-Mabula.mp3\n",
            "Selected model is a bag of 4 models. You will see that many progress bars per track.\n",
            "Separated tracks will be stored in /content/output_O/htdemucs_ft\n",
            "Separating track /content/songs/Rap song/Club-La-Mabula.mp3\n"
          ]
        },
        {
          "output_type": "stream",
          "name": "stderr",
          "text": [
            "100%|██████████████████████████████████████████████████████████████████████| 216.45/216.45 [00:08<00:00, 25.50seconds/s]\n",
            "100%|██████████████████████████████████████████████████████████████████████| 216.45/216.45 [00:08<00:00, 25.62seconds/s]\n",
            "100%|██████████████████████████████████████████████████████████████████████| 216.45/216.45 [00:08<00:00, 25.33seconds/s]\n",
            "100%|██████████████████████████████████████████████████████████████████████| 216.45/216.45 [00:08<00:00, 25.16seconds/s]\n"
          ]
        },
        {
          "output_type": "stream",
          "name": "stdout",
          "text": [
            "🔄 Processing 21/21: AK - The Tiger.mp3\n",
            "Selected model is a bag of 4 models. You will see that many progress bars per track.\n",
            "Separated tracks will be stored in /content/output_O/htdemucs_ft\n",
            "Separating track /content/songs/Rap song/AK - The Tiger.mp3\n"
          ]
        },
        {
          "output_type": "stream",
          "name": "stderr",
          "text": [
            "100%|██████████████████████████████████████████████████████████████████████| 204.75/204.75 [00:08<00:00, 25.28seconds/s]\n",
            "100%|██████████████████████████████████████████████████████████████████████| 204.75/204.75 [00:07<00:00, 25.61seconds/s]\n",
            "100%|██████████████████████████████████████████████████████████████████████| 204.75/204.75 [00:08<00:00, 25.31seconds/s]\n",
            "100%|██████████████████████████████████████████████████████████████████████| 204.75/204.75 [00:08<00:00, 25.34seconds/s]\n"
          ]
        },
        {
          "output_type": "stream",
          "name": "stdout",
          "text": [
            "\n",
            "✅ All 21 songs processed! Separated files saved in /content/output_O\n"
          ]
        }
      ],
      "source": [
        "import os\n",
        "import zipfile\n",
        "from demucs.separate import main\n",
        "\n",
        "# ---- CONFIG ----\n",
        "zip_path = \"/content/Rap song.zip\"   # your zip with 20 songs\n",
        "extract_dir = \"/content/songs\"    # where to extract songs\n",
        "output_dir = \"/content/output_O\"            # where to save separated files\n",
        "\n",
        "# 1. Unzip all songs\n",
        "with zipfile.ZipFile(zip_path, 'r') as zip_ref:\n",
        "    zip_ref.extractall(extract_dir)\n",
        "\n",
        "print(f\"✅ Extracted all songs to {extract_dir}\")\n",
        "\n",
        "# 2. Get all audio files from extracted folder\n",
        "audio_files = []\n",
        "for root, dirs, files in os.walk(extract_dir):\n",
        "    for file in files:\n",
        "        if file.endswith(('.mp3', '.wav', '.flac', '.ogg')):  # supported formats\n",
        "            audio_files.append(os.path.join(root, file))\n",
        "\n",
        "print(f\"🎶 Found {len(audio_files)} songs in dataset.\")\n",
        "\n",
        "# 3. Run Demucs on each audio file\n",
        "for idx, input_audio in enumerate(audio_files, 1):\n",
        "    print(f\"🔄 Processing {idx}/{len(audio_files)}: {os.path.basename(input_audio)}\")\n",
        "\n",
        "    main([\n",
        "        \"-n\", \"htdemucs_ft\",        # Faster model\n",
        "        \"--two-stems\", \"vocals\",    # Only vocals vs music\n",
        "        \"--mp3\",                    # Save as MP3\n",
        "        \"--jobs\", \"4\",              # Parallel jobs\n",
        "        \"--device\", \"cuda\",         # Use GPU (change to \"cpu\" if no GPU)\n",
        "        \"-o\", output_dir,\n",
        "        input_audio\n",
        "    ])\n",
        "\n",
        "print(f\"\\n✅ All {len(audio_files)} songs processed! Separated files saved in {output_dir}\")\n"
      ]
    },
    {
      "cell_type": "code",
      "source": [
        "import os\n",
        "import zipfile\n",
        "from demucs.separate import main\n",
        "\n",
        "# ---- CONFIG ----\n",
        "zip_path = \"/content/melody_songs.zip\"   # your zip with 20 songs\n",
        "extract_dir = \"/content/melody_songs\"    # where to extract songs\n",
        "output_dir = \"/content/melody_output_O\"            # where to save separated files\n",
        "\n",
        "# 1. Unzip all songs\n",
        "with zipfile.ZipFile(zip_path, 'r') as zip_ref:\n",
        "    zip_ref.extractall(extract_dir)\n",
        "\n",
        "print(f\"✅ Extracted all songs to {extract_dir}\")\n",
        "\n",
        "# 2. Get all audio files from extracted folder\n",
        "audio_files = []\n",
        "for root, dirs, files in os.walk(extract_dir):\n",
        "    for file in files:\n",
        "        if file.endswith(('.mp3', '.wav', '.flac', '.ogg')):  # supported formats\n",
        "            audio_files.append(os.path.join(root, file))\n",
        "\n",
        "print(f\"🎶 Found {len(audio_files)} songs in dataset.\")\n",
        "\n",
        "# 3. Run Demucs on each audio file\n",
        "for idx, input_audio in enumerate(audio_files, 1):\n",
        "    print(f\"🔄 Processing {idx}/{len(audio_files)}: {os.path.basename(input_audio)}\")\n",
        "\n",
        "    main([\n",
        "        \"-n\", \"htdemucs_ft\",        # Faster model\n",
        "        \"--two-stems\", \"vocals\",    # Only vocals vs music\n",
        "        \"--mp3\",                    # Save as MP3\n",
        "        \"--jobs\", \"4\",              # Parallel jobs\n",
        "        \"--device\", \"cuda\",         # Use GPU (change to \"cpu\" if no GPU)\n",
        "        \"-o\", output_dir,\n",
        "        input_audio\n",
        "    ])\n",
        "\n",
        "print(f\"\\n✅ All {len(audio_files)} songs processed! Separated files saved in {output_dir}\")\n"
      ],
      "metadata": {
        "colab": {
          "base_uri": "https://localhost:8080/"
        },
        "id": "LFGxuXt6W6xs",
        "outputId": "a84b2c70-0942-431b-bd08-dd68788dfd7d"
      },
      "execution_count": 3,
      "outputs": [
        {
          "output_type": "stream",
          "name": "stdout",
          "text": [
            "✅ Extracted all songs to /content/melody_songs\n",
            "🎶 Found 20 songs in dataset.\n",
            "🔄 Processing 1/20: Guru (Tamil) - Aaruyirae Video  A.R. Rahman.mp3\n",
            "Selected model is a bag of 4 models. You will see that many progress bars per track.\n",
            "Separated tracks will be stored in /content/melody_output_O/htdemucs_ft\n",
            "Separating track /content/melody_songs/melody songs/Guru (Tamil) - Aaruyirae Video  A.R. Rahman.mp3\n"
          ]
        },
        {
          "output_type": "stream",
          "name": "stderr",
          "text": [
            "100%|██████████████████████████████████████████████████████████████████████| 286.65/286.65 [00:12<00:00, 23.71seconds/s]\n",
            "100%|██████████████████████████████████████████████████████████████████████| 286.65/286.65 [00:11<00:00, 25.53seconds/s]\n",
            "100%|██████████████████████████████████████████████████████████████████████| 286.65/286.65 [00:11<00:00, 25.27seconds/s]\n",
            "100%|██████████████████████████████████████████████████████████████████████| 286.65/286.65 [00:11<00:00, 25.45seconds/s]\n"
          ]
        },
        {
          "output_type": "stream",
          "name": "stdout",
          "text": [
            "🔄 Processing 2/20: Varaha Nadhikarai (From Sangamam).mp3\n",
            "Selected model is a bag of 4 models. You will see that many progress bars per track.\n",
            "Separated tracks will be stored in /content/melody_output_O/htdemucs_ft\n",
            "Separating track /content/melody_songs/melody songs/Varaha Nadhikarai (From Sangamam).mp3\n"
          ]
        },
        {
          "output_type": "stream",
          "name": "stderr",
          "text": [
            "100%|██████████████████████████████████████████████████████████████████████| 380.25/380.25 [00:14<00:00, 25.61seconds/s]\n",
            "100%|██████████████████████████████████████████████████████████████████████| 380.25/380.25 [00:14<00:00, 25.45seconds/s]\n",
            "100%|██████████████████████████████████████████████████████████████████████| 380.25/380.25 [00:14<00:00, 25.41seconds/s]\n",
            "100%|██████████████████████████████████████████████████████████████████████| 380.25/380.25 [00:14<00:00, 25.71seconds/s]\n"
          ]
        },
        {
          "output_type": "stream",
          "name": "stdout",
          "text": [
            "🔄 Processing 3/20: Maragatha Naanayam  Nee Kavithaigala Song with Lyrics  Aadhi, Nikki Galrani  Dhibu Ninan Thomas.mp3\n",
            "Selected model is a bag of 4 models. You will see that many progress bars per track.\n",
            "Separated tracks will be stored in /content/melody_output_O/htdemucs_ft\n",
            "Separating track /content/melody_songs/melody songs/Maragatha Naanayam  Nee Kavithaigala Song with Lyrics  Aadhi, Nikki Galrani  Dhibu Ninan Thomas.mp3\n"
          ]
        },
        {
          "output_type": "stream",
          "name": "stderr",
          "text": [
            "100%|██████████████████████████████████████████████████████████████████████| 286.65/286.65 [00:11<00:00, 25.56seconds/s]\n",
            "100%|██████████████████████████████████████████████████████████████████████| 286.65/286.65 [00:11<00:00, 25.60seconds/s]\n",
            "100%|██████████████████████████████████████████████████████████████████████| 286.65/286.65 [00:11<00:00, 25.35seconds/s]\n",
            "100%|██████████████████████████████████████████████████████████████████████| 286.65/286.65 [00:11<00:00, 25.43seconds/s]\n"
          ]
        },
        {
          "output_type": "stream",
          "name": "stdout",
          "text": [
            "🔄 Processing 4/20: Manithan - Aval Video  Udhayanidhi  Santhosh Narayanan.mp3\n",
            "Selected model is a bag of 4 models. You will see that many progress bars per track.\n",
            "Separated tracks will be stored in /content/melody_output_O/htdemucs_ft\n",
            "Separating track /content/melody_songs/melody songs/Manithan - Aval Video  Udhayanidhi  Santhosh Narayanan.mp3\n"
          ]
        },
        {
          "output_type": "stream",
          "name": "stderr",
          "text": [
            "100%|██████████████████████████████████████████████████████████████████████| 239.85/239.85 [00:09<00:00, 25.48seconds/s]\n",
            "100%|██████████████████████████████████████████████████████████████████████| 239.85/239.85 [00:09<00:00, 25.53seconds/s]\n",
            "100%|██████████████████████████████████████████████████████████████████████| 239.85/239.85 [00:09<00:00, 25.47seconds/s]\n",
            "100%|██████████████████████████████████████████████████████████████████████| 239.85/239.85 [00:09<00:00, 25.36seconds/s]\n"
          ]
        },
        {
          "output_type": "stream",
          "name": "stdout",
          "text": [
            "🔄 Processing 5/20: Vishwaroopam - Unnai Kaanadhu Naan Video  Kamal Haasan.mp3\n",
            "Selected model is a bag of 4 models. You will see that many progress bars per track.\n",
            "Separated tracks will be stored in /content/melody_output_O/htdemucs_ft\n",
            "Separating track /content/melody_songs/melody songs/Vishwaroopam - Unnai Kaanadhu Naan Video  Kamal Haasan.mp3\n"
          ]
        },
        {
          "output_type": "stream",
          "name": "stderr",
          "text": [
            "100%|████████████████████████████████████████████████████████████████████████| 315.9/315.9 [00:12<00:00, 25.60seconds/s]\n",
            "100%|████████████████████████████████████████████████████████████████████████| 315.9/315.9 [00:12<00:00, 25.53seconds/s]\n",
            "100%|████████████████████████████████████████████████████████████████████████| 315.9/315.9 [00:12<00:00, 25.26seconds/s]\n",
            "100%|████████████████████████████████████████████████████████████████████████| 315.9/315.9 [00:12<00:00, 25.47seconds/s]\n"
          ]
        },
        {
          "output_type": "stream",
          "name": "stdout",
          "text": [
            "🔄 Processing 6/20: Un Kanney Aayiram Kadha Pesudhey  Pradeep Kumar  SuperSinger  - Kulam.mp3\n",
            "Selected model is a bag of 4 models. You will see that many progress bars per track.\n",
            "Separated tracks will be stored in /content/melody_output_O/htdemucs_ft\n",
            "Separating track /content/melody_songs/melody songs/Un Kanney Aayiram Kadha Pesudhey  Pradeep Kumar  SuperSinger  - Kulam.mp3\n"
          ]
        },
        {
          "output_type": "stream",
          "name": "stderr",
          "text": [
            "100%|██████████████████████████████████████████████████████████████████████| 204.75/204.75 [00:07<00:00, 25.60seconds/s]\n",
            "100%|██████████████████████████████████████████████████████████████████████| 204.75/204.75 [00:07<00:00, 25.87seconds/s]\n",
            "100%|██████████████████████████████████████████████████████████████████████| 204.75/204.75 [00:08<00:00, 25.39seconds/s]\n",
            "100%|██████████████████████████████████████████████████████████████████████| 204.75/204.75 [00:08<00:00, 25.27seconds/s]\n"
          ]
        },
        {
          "output_type": "stream",
          "name": "stdout",
          "text": [
            "🔄 Processing 7/20: Pariyerum Perumal  Potta Kaatil Poovasam Video Song  Kathir, Anandhi  Santhosh Narayanan.mp3\n",
            "Selected model is a bag of 4 models. You will see that many progress bars per track.\n",
            "Separated tracks will be stored in /content/melody_output_O/htdemucs_ft\n",
            "Separating track /content/melody_songs/melody songs/Pariyerum Perumal  Potta Kaatil Poovasam Video Song  Kathir, Anandhi  Santhosh Narayanan.mp3\n"
          ]
        },
        {
          "output_type": "stream",
          "name": "stderr",
          "text": [
            "100%|██████████████████████████████████████████████| 356.84999999999997/356.84999999999997 [00:14<00:00, 25.48seconds/s]\n",
            "100%|██████████████████████████████████████████████| 356.84999999999997/356.84999999999997 [00:14<00:00, 25.44seconds/s]\n",
            "100%|██████████████████████████████████████████████| 356.84999999999997/356.84999999999997 [00:14<00:00, 25.48seconds/s]\n",
            "100%|██████████████████████████████████████████████| 356.84999999999997/356.84999999999997 [00:13<00:00, 25.67seconds/s]\n"
          ]
        },
        {
          "output_type": "stream",
          "name": "stdout",
          "text": [
            "🔄 Processing 8/20: Maamannan - Nenjame Nenjame Video  Udhayanidhi Stalin  Vadivelu  A.R Rahman.mp3\n",
            "Selected model is a bag of 4 models. You will see that many progress bars per track.\n",
            "Separated tracks will be stored in /content/melody_output_O/htdemucs_ft\n",
            "Separating track /content/melody_songs/melody songs/Maamannan - Nenjame Nenjame Video  Udhayanidhi Stalin  Vadivelu  A.R Rahman.mp3\n"
          ]
        },
        {
          "output_type": "stream",
          "name": "stderr",
          "text": [
            "100%|████████████████████████████████████████████████████████████████████████| 315.9/315.9 [00:12<00:00, 25.60seconds/s]\n",
            "100%|████████████████████████████████████████████████████████████████████████| 315.9/315.9 [00:12<00:00, 25.50seconds/s]\n",
            "100%|████████████████████████████████████████████████████████████████████████| 315.9/315.9 [00:12<00:00, 25.35seconds/s]\n",
            "100%|████████████████████████████████████████████████████████████████████████| 315.9/315.9 [00:12<00:00, 25.56seconds/s]\n"
          ]
        },
        {
          "output_type": "stream",
          "name": "stdout",
          "text": [
            "🔄 Processing 9/20: The Romance Of Power Paandi - Venpani Malare ft. Dhanush [Lyric Video]  Power Paandi  Sean Roldan.mp3\n",
            "Selected model is a bag of 4 models. You will see that many progress bars per track.\n",
            "Separated tracks will be stored in /content/melody_output_O/htdemucs_ft\n",
            "Separating track /content/melody_songs/melody songs/The Romance Of Power Paandi - Venpani Malare ft. Dhanush [Lyric Video]  Power Paandi  Sean Roldan.mp3\n"
          ]
        },
        {
          "output_type": "stream",
          "name": "stderr",
          "text": [
            "100%|████████████████████████████████████████████████████████████████████████| 234.0/234.0 [00:09<00:00, 25.67seconds/s]\n",
            "100%|████████████████████████████████████████████████████████████████████████| 234.0/234.0 [00:09<00:00, 25.65seconds/s]\n",
            "100%|████████████████████████████████████████████████████████████████████████| 234.0/234.0 [00:09<00:00, 25.37seconds/s]\n",
            "100%|████████████████████████████████████████████████████████████████████████| 234.0/234.0 [00:09<00:00, 25.25seconds/s]\n"
          ]
        },
        {
          "output_type": "stream",
          "name": "stdout",
          "text": [
            "🔄 Processing 10/20: Petta - Ilamai Thirumbudhe Official Video (Tamil)  Rajinikanth, Simran  Anirudh Ravichander.mp3\n",
            "Selected model is a bag of 4 models. You will see that many progress bars per track.\n",
            "Separated tracks will be stored in /content/melody_output_O/htdemucs_ft\n",
            "Separating track /content/melody_songs/melody songs/Petta - Ilamai Thirumbudhe Official Video (Tamil)  Rajinikanth, Simran  Anirudh Ravichander.mp3\n"
          ]
        },
        {
          "output_type": "stream",
          "name": "stderr",
          "text": [
            "100%|██████████████████████████████████████████████| 222.29999999999998/222.29999999999998 [00:08<00:00, 25.60seconds/s]\n",
            "100%|██████████████████████████████████████████████| 222.29999999999998/222.29999999999998 [00:08<00:00, 25.57seconds/s]\n",
            "100%|██████████████████████████████████████████████| 222.29999999999998/222.29999999999998 [00:08<00:00, 25.31seconds/s]\n",
            "100%|██████████████████████████████████████████████| 222.29999999999998/222.29999999999998 [00:08<00:00, 25.34seconds/s]\n"
          ]
        },
        {
          "output_type": "stream",
          "name": "stdout",
          "text": [
            "🔄 Processing 11/20: Raavanan - Usure Pogudhey Video  A.R. Rahman  Vikram, Aishwarya Rai.mp3\n",
            "Selected model is a bag of 4 models. You will see that many progress bars per track.\n",
            "Separated tracks will be stored in /content/melody_output_O/htdemucs_ft\n",
            "Separating track /content/melody_songs/melody songs/Raavanan - Usure Pogudhey Video  A.R. Rahman  Vikram, Aishwarya Rai.mp3\n"
          ]
        },
        {
          "output_type": "stream",
          "name": "stderr",
          "text": [
            "100%|██████████████████████████████████████████████| 356.84999999999997/356.84999999999997 [00:13<00:00, 25.49seconds/s]\n",
            "100%|██████████████████████████████████████████████| 356.84999999999997/356.84999999999997 [00:14<00:00, 25.43seconds/s]\n",
            "100%|██████████████████████████████████████████████| 356.84999999999997/356.84999999999997 [00:14<00:00, 25.38seconds/s]\n",
            "100%|██████████████████████████████████████████████| 356.84999999999997/356.84999999999997 [00:13<00:00, 25.60seconds/s]\n"
          ]
        },
        {
          "output_type": "stream",
          "name": "stdout",
          "text": [
            "🔄 Processing 12/20: Kadal - Nenjukkule Video  A.R. Rahman.mp3\n",
            "Selected model is a bag of 4 models. You will see that many progress bars per track.\n",
            "Separated tracks will be stored in /content/melody_output_O/htdemucs_ft\n",
            "Separating track /content/melody_songs/melody songs/Kadal - Nenjukkule Video  A.R. Rahman.mp3\n"
          ]
        },
        {
          "output_type": "stream",
          "name": "stderr",
          "text": [
            "100%|██████████████████████████████████████████████| 222.29999999999998/222.29999999999998 [00:08<00:00, 25.57seconds/s]\n",
            "100%|██████████████████████████████████████████████| 222.29999999999998/222.29999999999998 [00:08<00:00, 25.48seconds/s]\n",
            "100%|██████████████████████████████████████████████| 222.29999999999998/222.29999999999998 [00:08<00:00, 25.45seconds/s]\n",
            "100%|██████████████████████████████████████████████| 222.29999999999998/222.29999999999998 [00:08<00:00, 25.32seconds/s]\n"
          ]
        },
        {
          "output_type": "stream",
          "name": "stdout",
          "text": [
            "🔄 Processing 13/20: Yeya En Kottikkaaraa Video Song  Papanasam  Kamal Haasan  Gautami  Jeethu Joseph  Ghibran.mp3\n",
            "Selected model is a bag of 4 models. You will see that many progress bars per track.\n",
            "Separated tracks will be stored in /content/melody_output_O/htdemucs_ft\n",
            "Separating track /content/melody_songs/melody songs/Yeya En Kottikkaaraa Video Song  Papanasam  Kamal Haasan  Gautami  Jeethu Joseph  Ghibran.mp3\n"
          ]
        },
        {
          "output_type": "stream",
          "name": "stderr",
          "text": [
            "100%|██████████████████████████████████████████████| 310.04999999999995/310.04999999999995 [00:12<00:00, 25.53seconds/s]\n",
            "100%|██████████████████████████████████████████████| 310.04999999999995/310.04999999999995 [00:12<00:00, 25.47seconds/s]\n",
            "100%|██████████████████████████████████████████████| 310.04999999999995/310.04999999999995 [00:12<00:00, 25.27seconds/s]\n",
            "100%|██████████████████████████████████████████████| 310.04999999999995/310.04999999999995 [00:12<00:00, 25.50seconds/s]\n"
          ]
        },
        {
          "output_type": "stream",
          "name": "stdout",
          "text": [
            "🔄 Processing 14/20: Aasai Oru Pulveli Video Song  Attakathi  Dinesh, Nandita Swetha  Santhosh Narayanan  Pa. Ranjith.mp3\n",
            "Selected model is a bag of 4 models. You will see that many progress bars per track.\n",
            "Separated tracks will be stored in /content/melody_output_O/htdemucs_ft\n",
            "Separating track /content/melody_songs/melody songs/Aasai Oru Pulveli Video Song  Attakathi  Dinesh, Nandita Swetha  Santhosh Narayanan  Pa. Ranjith.mp3\n"
          ]
        },
        {
          "output_type": "stream",
          "name": "stderr",
          "text": [
            "100%|██████████████████████████████████████████████| 222.29999999999998/222.29999999999998 [00:08<00:00, 25.57seconds/s]\n",
            "100%|██████████████████████████████████████████████| 222.29999999999998/222.29999999999998 [00:08<00:00, 25.74seconds/s]\n",
            "100%|██████████████████████████████████████████████| 222.29999999999998/222.29999999999998 [00:08<00:00, 25.37seconds/s]\n",
            "100%|██████████████████████████████████████████████| 222.29999999999998/222.29999999999998 [00:08<00:00, 25.22seconds/s]\n"
          ]
        },
        {
          "output_type": "stream",
          "name": "stdout",
          "text": [
            "🔄 Processing 15/20: Virumaandi Movie Songs  Onnavida indha song  Kamal Haasan  Abhirami  Nassar  Ilaiyaraaja.mp3\n",
            "Selected model is a bag of 4 models. You will see that many progress bars per track.\n",
            "Separated tracks will be stored in /content/melody_output_O/htdemucs_ft\n",
            "Separating track /content/melody_songs/melody songs/Virumaandi Movie Songs  Onnavida indha song  Kamal Haasan  Abhirami  Nassar  Ilaiyaraaja.mp3\n"
          ]
        },
        {
          "output_type": "stream",
          "name": "stderr",
          "text": [
            "100%|██████████████████████████████████████████████| 397.79999999999995/397.79999999999995 [00:15<00:00, 25.53seconds/s]\n",
            "100%|██████████████████████████████████████████████| 397.79999999999995/397.79999999999995 [00:15<00:00, 25.33seconds/s]\n",
            "100%|██████████████████████████████████████████████| 397.79999999999995/397.79999999999995 [00:15<00:00, 25.35seconds/s]\n",
            "100%|██████████████████████████████████████████████| 397.79999999999995/397.79999999999995 [00:15<00:00, 25.67seconds/s]\n"
          ]
        },
        {
          "output_type": "stream",
          "name": "stdout",
          "text": [
            "🔄 Processing 16/20: Anju Vanna Poove (Reprise) - Video  Thug Life  Kamal Haasan  Mani Ratnam  STR  AR Rahman.mp3\n",
            "Selected model is a bag of 4 models. You will see that many progress bars per track.\n",
            "Separated tracks will be stored in /content/melody_output_O/htdemucs_ft\n",
            "Separating track /content/melody_songs/melody songs/Anju Vanna Poove (Reprise) - Video  Thug Life  Kamal Haasan  Mani Ratnam  STR  AR Rahman.mp3\n"
          ]
        },
        {
          "output_type": "stream",
          "name": "stderr",
          "text": [
            "100%|██████████████████████████████████████████████| 134.54999999999998/134.54999999999998 [00:05<00:00, 25.29seconds/s]\n",
            "100%|██████████████████████████████████████████████| 134.54999999999998/134.54999999999998 [00:05<00:00, 25.75seconds/s]\n",
            "100%|██████████████████████████████████████████████| 134.54999999999998/134.54999999999998 [00:05<00:00, 25.61seconds/s]\n",
            "100%|██████████████████████████████████████████████| 134.54999999999998/134.54999999999998 [00:05<00:00, 25.44seconds/s]\n"
          ]
        },
        {
          "output_type": "stream",
          "name": "stdout",
          "text": [
            "🔄 Processing 17/20: Kadhal Kanave Official Full Song - Mundasupatti.mp3\n",
            "Selected model is a bag of 4 models. You will see that many progress bars per track.\n",
            "Separated tracks will be stored in /content/melody_output_O/htdemucs_ft\n",
            "Separating track /content/melody_songs/melody songs/Kadhal Kanave Official Full Song - Mundasupatti.mp3\n"
          ]
        },
        {
          "output_type": "stream",
          "name": "stderr",
          "text": [
            "100%|██████████████████████████████████████████████| 251.54999999999998/251.54999999999998 [00:09<00:00, 25.34seconds/s]\n",
            "100%|██████████████████████████████████████████████| 251.54999999999998/251.54999999999998 [00:09<00:00, 25.34seconds/s]\n",
            "100%|██████████████████████████████████████████████| 251.54999999999998/251.54999999999998 [00:09<00:00, 25.45seconds/s]\n",
            "100%|██████████████████████████████████████████████| 251.54999999999998/251.54999999999998 [00:09<00:00, 25.60seconds/s]\n"
          ]
        },
        {
          "output_type": "stream",
          "name": "stdout",
          "text": [
            "🔄 Processing 18/20: Anegan - Aathadi Aathadi Lyric  Dhanush  Harris Jayaraj.mp3\n",
            "Selected model is a bag of 4 models. You will see that many progress bars per track.\n",
            "Separated tracks will be stored in /content/melody_output_O/htdemucs_ft\n",
            "Separating track /content/melody_songs/melody songs/Anegan - Aathadi Aathadi Lyric  Dhanush  Harris Jayaraj.mp3\n"
          ]
        },
        {
          "output_type": "stream",
          "name": "stderr",
          "text": [
            "100%|████████████████████████████████████████████████████████████████████████| 351.0/351.0 [00:13<00:00, 25.48seconds/s]\n",
            "100%|████████████████████████████████████████████████████████████████████████| 351.0/351.0 [00:13<00:00, 25.44seconds/s]\n",
            "100%|████████████████████████████████████████████████████████████████████████| 351.0/351.0 [00:13<00:00, 25.37seconds/s]\n",
            "100%|████████████████████████████████████████████████████████████████████████| 351.0/351.0 [00:13<00:00, 25.64seconds/s]\n"
          ]
        },
        {
          "output_type": "stream",
          "name": "stdout",
          "text": [
            "🔄 Processing 19/20: Pannaiyaarum Padminiyum - Onakkaaga Poranthaenae Video  Vijay Sethupathi.mp3\n",
            "Selected model is a bag of 4 models. You will see that many progress bars per track.\n",
            "Separated tracks will be stored in /content/melody_output_O/htdemucs_ft\n",
            "Separating track /content/melody_songs/melody songs/Pannaiyaarum Padminiyum - Onakkaaga Poranthaenae Video  Vijay Sethupathi.mp3\n"
          ]
        },
        {
          "output_type": "stream",
          "name": "stderr",
          "text": [
            "100%|██████████████████████████████████████████████| 198.89999999999998/198.89999999999998 [00:07<00:00, 25.63seconds/s]\n",
            "100%|██████████████████████████████████████████████| 198.89999999999998/198.89999999999998 [00:07<00:00, 25.67seconds/s]\n",
            "100%|██████████████████████████████████████████████| 198.89999999999998/198.89999999999998 [00:07<00:00, 25.49seconds/s]\n",
            "100%|██████████████████████████████████████████████| 198.89999999999998/198.89999999999998 [00:07<00:00, 25.53seconds/s]\n"
          ]
        },
        {
          "output_type": "stream",
          "name": "stdout",
          "text": [
            "🔄 Processing 20/20: Irudhi Suttru Video Songs  Ey Sandakaara Full Video SongR Madhavan,Ritika SinghSanthosh Narayanan.mp3\n",
            "Selected model is a bag of 4 models. You will see that many progress bars per track.\n",
            "Separated tracks will be stored in /content/melody_output_O/htdemucs_ft\n",
            "Separating track /content/melody_songs/melody songs/Irudhi Suttru Video Songs  Ey Sandakaara Full Video SongR Madhavan,Ritika SinghSanthosh Narayanan.mp3\n"
          ]
        },
        {
          "output_type": "stream",
          "name": "stderr",
          "text": [
            "100%|████████████████████████████████████████████████████████████████████████| 245.7/245.7 [00:09<00:00, 25.51seconds/s]\n",
            "100%|████████████████████████████████████████████████████████████████████████| 245.7/245.7 [00:09<00:00, 25.60seconds/s]\n",
            "100%|████████████████████████████████████████████████████████████████████████| 245.7/245.7 [00:09<00:00, 25.44seconds/s]\n",
            "100%|████████████████████████████████████████████████████████████████████████| 245.7/245.7 [00:09<00:00, 25.57seconds/s]\n"
          ]
        },
        {
          "output_type": "stream",
          "name": "stdout",
          "text": [
            "\n",
            "✅ All 20 songs processed! Separated files saved in /content/melody_output_O\n"
          ]
        }
      ]
    },
    {
      "cell_type": "code",
      "metadata": {
        "id": "a821fac3"
      },
      "source": [
        "import os\n",
        "import numpy as np\n",
        "import librosa\n",
        "from sklearn.preprocessing import StandardScaler\n",
        "\n",
        "# Define paths to the output directories\n",
        "rap_output_dir = \"/content/output_O/htdemucs_ft\"\n",
        "melody_output_dir = \"/content/melody_output_O/htdemucs_ft\"\n",
        "\n",
        "# Create empty lists to store features and labels\n",
        "features = []\n",
        "labels = []"
      ],
      "execution_count": 4,
      "outputs": []
    },
    {
      "cell_type": "code",
      "metadata": {
        "id": "4db9b4df"
      },
      "source": [
        "# Process rap songs\n",
        "for song_folder in os.listdir(rap_output_dir):\n",
        "    song_path = os.path.join(rap_output_dir, song_folder, \"vocals.mp3\")\n",
        "    if os.path.exists(song_path):\n",
        "        try:\n",
        "            y, sr = librosa.load(song_path, sr=None)\n",
        "            # Extract features (MFCCs, Chroma, Spectral Centroid)\n",
        "            mfccs = librosa.feature.mfcc(y=y, sr=sr, n_mfcc=13)\n",
        "            chroma = librosa.feature.chroma_stft(y=y, sr=sr)\n",
        "            spec_centroid = librosa.feature.spectral_centroid(y=y, sr=sr)\n",
        "\n",
        "            # Aggregate features (e.g., mean)\n",
        "            features.append(np.mean(mfccs, axis=1))\n",
        "            features.append(np.mean(chroma, axis=1))\n",
        "            features.append(np.mean(spec_centroid, axis=1))\n",
        "            labels.append('rap')\n",
        "        except Exception as e:\n",
        "            print(f\"Error processing {song_path}: {e}\")\n",
        "\n",
        "\n",
        "# Process melody songs\n",
        "for song_folder in os.listdir(melody_output_dir):\n",
        "    song_path = os.path.join(melody_output_dir, song_folder, \"vocals.mp3\")\n",
        "    if os.path.exists(song_path):\n",
        "        try:\n",
        "            y, sr = librosa.load(song_path, sr=sr)\n",
        "            # Extract features (MFCCs, Chroma, Spectral Centroid)\n",
        "            mfccs = librosa.feature.mfcc(y=y, sr=sr, n_mfcc=13)\n",
        "            chroma = librosa.feature.chroma_stft(y=y, sr=sr)\n",
        "            spec_centroid = librosa.feature.spectral_centroid(y=y, sr=sr)\n",
        "\n",
        "            # Aggregate features (e.g., mean)\n",
        "            features.append(np.mean(mfccs, axis=1))\n",
        "            features.append(np.mean(chroma, axis=1))\n",
        "            features.append(np.mean(spec_centroid, axis=1))\n",
        "            labels.append('melody')\n",
        "        except Exception as e:\n",
        "            print(f\"Error processing {song_path}: {e}\")\n"
      ],
      "execution_count": 5,
      "outputs": []
    },
    {
      "cell_type": "code",
      "metadata": {
        "colab": {
          "base_uri": "https://localhost:8080/"
        },
        "id": "mkOdGrgoqAhl",
        "outputId": "4473fdc4-4799-4719-ede6-5bd491ccf2d6"
      },
      "source": [
        "# Create empty lists to store features and labels\n",
        "features = []\n",
        "labels = []\n",
        "\n",
        "# Process rap songs\n",
        "for song_folder in os.listdir(rap_output_dir):\n",
        "    song_path = os.path.join(rap_output_dir, song_folder, \"vocals.mp3\")\n",
        "    if os.path.exists(song_path):\n",
        "        try:\n",
        "            y, sr = librosa.load(song_path, sr=None)\n",
        "            # Extract features (MFCCs, Chroma, Spectral Centroid)\n",
        "            mfccs = librosa.feature.mfcc(y=y, sr=sr, n_mfcc=13)\n",
        "            chroma = librosa.feature.chroma_stft(y=y, sr=sr)\n",
        "            spec_centroid = librosa.feature.spectral_centroid(y=y, sr=sr)\n",
        "\n",
        "            # Aggregate and combine features\n",
        "            combined_features = np.concatenate((np.mean(mfccs, axis=1),\n",
        "                                                np.mean(chroma, axis=1),\n",
        "                                                np.mean(spec_centroid, axis=1)))\n",
        "            features.append(combined_features)\n",
        "            labels.append('rap')\n",
        "        except Exception as e:\n",
        "            print(f\"Error processing {song_path}: {e}\")\n",
        "\n",
        "\n",
        "# Process melody songs\n",
        "for song_folder in os.listdir(melody_output_dir):\n",
        "    song_path = os.path.join(melody_output_dir, song_folder, \"vocals.mp3\")\n",
        "    if os.path.exists(song_path):\n",
        "        try:\n",
        "            y, sr = librosa.load(song_path, sr=sr)\n",
        "            # Extract features (MFCCs, Chroma, Spectral Centroid)\n",
        "            mfccs = librosa.feature.mfcc(y=y, sr=sr, n_mfcc=13)\n",
        "            chroma = librosa.feature.chroma_stft(y=y, sr=sr)\n",
        "            spec_centroid = librosa.feature.spectral_centroid(y=y, sr=sr)\n",
        "\n",
        "            # Aggregate and combine features\n",
        "            combined_features = np.concatenate((np.mean(mfccs, axis=1),\n",
        "                                                np.mean(chroma, axis=1),\n",
        "                                                np.mean(spec_centroid, axis=1)))\n",
        "            features.append(combined_features)\n",
        "            labels.append('melody')\n",
        "        except Exception as e:\n",
        "            print(f\"Error processing {song_path}: {e}\")\n",
        "\n",
        "# Convert lists to NumPy arrays\n",
        "X = np.array(features)\n",
        "y = np.array(labels)\n",
        "\n",
        "# Preprocess features\n",
        "scaler = StandardScaler()\n",
        "X_scaled = scaler.fit_transform(X)\n",
        "\n",
        "print(\"Features shape:\", X_scaled.shape)\n",
        "print(\"Labels shape:\", y.shape)"
      ],
      "execution_count": 7,
      "outputs": [
        {
          "output_type": "stream",
          "name": "stdout",
          "text": [
            "Features shape: (41, 26)\n",
            "Labels shape: (41,)\n"
          ]
        }
      ]
    },
    {
      "cell_type": "code",
      "metadata": {
        "colab": {
          "base_uri": "https://localhost:8080/"
        },
        "id": "2b46a806",
        "outputId": "59b8a82c-f8df-4198-ffb2-8636d5f53c2c"
      },
      "source": [
        "import tensorflow as tf\n",
        "from tensorflow.keras.models import Sequential\n",
        "from tensorflow.keras.layers import Dense, Conv1D, MaxPooling1D, Flatten\n",
        "from tensorflow.keras.utils import to_categorical\n",
        "\n",
        "# Convert labels to numerical categorical labels\n",
        "y_encoded = to_categorical(y == 'melody', num_classes=2)\n",
        "\n",
        "# Reshape features for CNN input (add a channel dimension)\n",
        "X_scaled_cnn = X_scaled.reshape(X_scaled.shape[0], X_scaled.shape[1], 1)\n",
        "\n",
        "# Define the CNN model\n",
        "model = Sequential()\n",
        "model.add(Conv1D(filters=64, kernel_size=3, activation='relu', input_shape=(X_scaled_cnn.shape[1], 1)))\n",
        "model.add(MaxPooling1D(pool_size=2))\n",
        "model.add(Flatten())\n",
        "model.add(Dense(64, activation='relu'))\n",
        "model.add(Dense(2, activation='softmax'))\n",
        "\n",
        "# Compile the model\n",
        "model.compile(optimizer='adam', loss='categorical_crossentropy', metrics=['accuracy'])\n",
        "\n",
        "# Train the model\n",
        "model.fit(X_scaled_cnn, y_encoded, epochs=50, batch_size=32)"
      ],
      "execution_count": 8,
      "outputs": [
        {
          "output_type": "stream",
          "name": "stderr",
          "text": [
            "/usr/local/lib/python3.12/dist-packages/keras/src/layers/convolutional/base_conv.py:113: UserWarning: Do not pass an `input_shape`/`input_dim` argument to a layer. When using Sequential models, prefer using an `Input(shape)` object as the first layer in the model instead.\n",
            "  super().__init__(activity_regularizer=activity_regularizer, **kwargs)\n"
          ]
        },
        {
          "output_type": "stream",
          "name": "stdout",
          "text": [
            "Epoch 1/50\n",
            "\u001b[1m2/2\u001b[0m \u001b[32m━━━━━━━━━━━━━━━━━━━━\u001b[0m\u001b[37m\u001b[0m \u001b[1m3s\u001b[0m 847ms/step - accuracy: 0.4223 - loss: 0.7449\n",
            "Epoch 2/50\n",
            "\u001b[1m2/2\u001b[0m \u001b[32m━━━━━━━━━━━━━━━━━━━━\u001b[0m\u001b[37m\u001b[0m \u001b[1m0s\u001b[0m 19ms/step - accuracy: 0.7274 - loss: 0.6287\n",
            "Epoch 3/50\n",
            "\u001b[1m2/2\u001b[0m \u001b[32m━━━━━━━━━━━━━━━━━━━━\u001b[0m\u001b[37m\u001b[0m \u001b[1m0s\u001b[0m 20ms/step - accuracy: 0.8770 - loss: 0.5630\n",
            "Epoch 4/50\n",
            "\u001b[1m2/2\u001b[0m \u001b[32m━━━━━━━━━━━━━━━━━━━━\u001b[0m\u001b[37m\u001b[0m \u001b[1m0s\u001b[0m 19ms/step - accuracy: 0.9304 - loss: 0.5021\n",
            "Epoch 5/50\n",
            "\u001b[1m2/2\u001b[0m \u001b[32m━━━━━━━━━━━━━━━━━━━━\u001b[0m\u001b[37m\u001b[0m \u001b[1m0s\u001b[0m 19ms/step - accuracy: 0.8933 - loss: 0.4612\n",
            "Epoch 6/50\n",
            "\u001b[1m2/2\u001b[0m \u001b[32m━━━━━━━━━━━━━━━━━━━━\u001b[0m\u001b[37m\u001b[0m \u001b[1m0s\u001b[0m 19ms/step - accuracy: 0.9037 - loss: 0.4141\n",
            "Epoch 7/50\n",
            "\u001b[1m2/2\u001b[0m \u001b[32m━━━━━━━━━━━━━━━━━━━━\u001b[0m\u001b[37m\u001b[0m \u001b[1m0s\u001b[0m 18ms/step - accuracy: 0.9304 - loss: 0.3678\n",
            "Epoch 8/50\n",
            "\u001b[1m2/2\u001b[0m \u001b[32m━━━━━━━━━━━━━━━━━━━━\u001b[0m\u001b[37m\u001b[0m \u001b[1m0s\u001b[0m 19ms/step - accuracy: 0.9571 - loss: 0.3277\n",
            "Epoch 9/50\n",
            "\u001b[1m2/2\u001b[0m \u001b[32m━━━━━━━━━━━━━━━━━━━━\u001b[0m\u001b[37m\u001b[0m \u001b[1m0s\u001b[0m 18ms/step - accuracy: 0.9571 - loss: 0.3076\n",
            "Epoch 10/50\n",
            "\u001b[1m2/2\u001b[0m \u001b[32m━━━━━━━━━━━━━━━━━━━━\u001b[0m\u001b[37m\u001b[0m \u001b[1m0s\u001b[0m 18ms/step - accuracy: 0.9733 - loss: 0.2872\n",
            "Epoch 11/50\n",
            "\u001b[1m2/2\u001b[0m \u001b[32m━━━━━━━━━━━━━━━━━━━━\u001b[0m\u001b[37m\u001b[0m \u001b[1m0s\u001b[0m 19ms/step - accuracy: 0.9733 - loss: 0.2712\n",
            "Epoch 12/50\n",
            "\u001b[1m2/2\u001b[0m \u001b[32m━━━━━━━━━━━━━━━━━━━━\u001b[0m\u001b[37m\u001b[0m \u001b[1m0s\u001b[0m 19ms/step - accuracy: 0.9571 - loss: 0.2384\n",
            "Epoch 13/50\n",
            "\u001b[1m2/2\u001b[0m \u001b[32m━━━━━━━━━━━━━━━━━━━━\u001b[0m\u001b[37m\u001b[0m \u001b[1m0s\u001b[0m 19ms/step - accuracy: 0.9733 - loss: 0.2187\n",
            "Epoch 14/50\n",
            "\u001b[1m2/2\u001b[0m \u001b[32m━━━━━━━━━━━━━━━━━━━━\u001b[0m\u001b[37m\u001b[0m \u001b[1m0s\u001b[0m 21ms/step - accuracy: 0.9733 - loss: 0.2028\n",
            "Epoch 15/50\n",
            "\u001b[1m2/2\u001b[0m \u001b[32m━━━━━━━━━━━━━━━━━━━━\u001b[0m\u001b[37m\u001b[0m \u001b[1m0s\u001b[0m 20ms/step - accuracy: 0.9733 - loss: 0.1755\n",
            "Epoch 16/50\n",
            "\u001b[1m2/2\u001b[0m \u001b[32m━━━━━━━━━━━━━━━━━━━━\u001b[0m\u001b[37m\u001b[0m \u001b[1m0s\u001b[0m 20ms/step - accuracy: 0.9837 - loss: 0.1574\n",
            "Epoch 17/50\n",
            "\u001b[1m2/2\u001b[0m \u001b[32m━━━━━━━━━━━━━━━━━━━━\u001b[0m\u001b[37m\u001b[0m \u001b[1m0s\u001b[0m 20ms/step - accuracy: 0.9733 - loss: 0.1607\n",
            "Epoch 18/50\n",
            "\u001b[1m2/2\u001b[0m \u001b[32m━━━━━━━━━━━━━━━━━━━━\u001b[0m\u001b[37m\u001b[0m \u001b[1m0s\u001b[0m 20ms/step - accuracy: 0.9733 - loss: 0.1438\n",
            "Epoch 19/50\n",
            "\u001b[1m2/2\u001b[0m \u001b[32m━━━━━━━━━━━━━━━━━━━━\u001b[0m\u001b[37m\u001b[0m \u001b[1m0s\u001b[0m 20ms/step - accuracy: 1.0000 - loss: 0.1260\n",
            "Epoch 20/50\n",
            "\u001b[1m2/2\u001b[0m \u001b[32m━━━━━━━━━━━━━━━━━━━━\u001b[0m\u001b[37m\u001b[0m \u001b[1m0s\u001b[0m 20ms/step - accuracy: 1.0000 - loss: 0.1227\n",
            "Epoch 21/50\n",
            "\u001b[1m2/2\u001b[0m \u001b[32m━━━━━━━━━━━━━━━━━━━━\u001b[0m\u001b[37m\u001b[0m \u001b[1m0s\u001b[0m 19ms/step - accuracy: 1.0000 - loss: 0.1108\n",
            "Epoch 22/50\n",
            "\u001b[1m2/2\u001b[0m \u001b[32m━━━━━━━━━━━━━━━━━━━━\u001b[0m\u001b[37m\u001b[0m \u001b[1m0s\u001b[0m 20ms/step - accuracy: 1.0000 - loss: 0.1031\n",
            "Epoch 23/50\n",
            "\u001b[1m2/2\u001b[0m \u001b[32m━━━━━━━━━━━━━━━━━━━━\u001b[0m\u001b[37m\u001b[0m \u001b[1m0s\u001b[0m 19ms/step - accuracy: 1.0000 - loss: 0.0854\n",
            "Epoch 24/50\n",
            "\u001b[1m2/2\u001b[0m \u001b[32m━━━━━━━━━━━━━━━━━━━━\u001b[0m\u001b[37m\u001b[0m \u001b[1m0s\u001b[0m 19ms/step - accuracy: 1.0000 - loss: 0.0814\n",
            "Epoch 25/50\n",
            "\u001b[1m2/2\u001b[0m \u001b[32m━━━━━━━━━━━━━━━━━━━━\u001b[0m\u001b[37m\u001b[0m \u001b[1m0s\u001b[0m 21ms/step - accuracy: 1.0000 - loss: 0.0726\n",
            "Epoch 26/50\n",
            "\u001b[1m2/2\u001b[0m \u001b[32m━━━━━━━━━━━━━━━━━━━━\u001b[0m\u001b[37m\u001b[0m \u001b[1m0s\u001b[0m 20ms/step - accuracy: 1.0000 - loss: 0.0635\n",
            "Epoch 27/50\n",
            "\u001b[1m2/2\u001b[0m \u001b[32m━━━━━━━━━━━━━━━━━━━━\u001b[0m\u001b[37m\u001b[0m \u001b[1m0s\u001b[0m 19ms/step - accuracy: 1.0000 - loss: 0.0535\n",
            "Epoch 28/50\n",
            "\u001b[1m2/2\u001b[0m \u001b[32m━━━━━━━━━━━━━━━━━━━━\u001b[0m\u001b[37m\u001b[0m \u001b[1m0s\u001b[0m 19ms/step - accuracy: 1.0000 - loss: 0.0527\n",
            "Epoch 29/50\n",
            "\u001b[1m2/2\u001b[0m \u001b[32m━━━━━━━━━━━━━━━━━━━━\u001b[0m\u001b[37m\u001b[0m \u001b[1m0s\u001b[0m 19ms/step - accuracy: 1.0000 - loss: 0.0490\n",
            "Epoch 30/50\n",
            "\u001b[1m2/2\u001b[0m \u001b[32m━━━━━━━━━━━━━━━━━━━━\u001b[0m\u001b[37m\u001b[0m \u001b[1m0s\u001b[0m 19ms/step - accuracy: 1.0000 - loss: 0.0473\n",
            "Epoch 31/50\n",
            "\u001b[1m2/2\u001b[0m \u001b[32m━━━━━━━━━━━━━━━━━━━━\u001b[0m\u001b[37m\u001b[0m \u001b[1m0s\u001b[0m 19ms/step - accuracy: 1.0000 - loss: 0.0415\n",
            "Epoch 32/50\n",
            "\u001b[1m2/2\u001b[0m \u001b[32m━━━━━━━━━━━━━━━━━━━━\u001b[0m\u001b[37m\u001b[0m \u001b[1m0s\u001b[0m 19ms/step - accuracy: 1.0000 - loss: 0.0364\n",
            "Epoch 33/50\n",
            "\u001b[1m2/2\u001b[0m \u001b[32m━━━━━━━━━━━━━━━━━━━━\u001b[0m\u001b[37m\u001b[0m \u001b[1m0s\u001b[0m 20ms/step - accuracy: 1.0000 - loss: 0.0349\n",
            "Epoch 34/50\n",
            "\u001b[1m2/2\u001b[0m \u001b[32m━━━━━━━━━━━━━━━━━━━━\u001b[0m\u001b[37m\u001b[0m \u001b[1m0s\u001b[0m 19ms/step - accuracy: 1.0000 - loss: 0.0304\n",
            "Epoch 35/50\n",
            "\u001b[1m2/2\u001b[0m \u001b[32m━━━━━━━━━━━━━━━━━━━━\u001b[0m\u001b[37m\u001b[0m \u001b[1m0s\u001b[0m 20ms/step - accuracy: 1.0000 - loss: 0.0300\n",
            "Epoch 36/50\n",
            "\u001b[1m2/2\u001b[0m \u001b[32m━━━━━━━━━━━━━━━━━━━━\u001b[0m\u001b[37m\u001b[0m \u001b[1m0s\u001b[0m 19ms/step - accuracy: 1.0000 - loss: 0.0266\n",
            "Epoch 37/50\n",
            "\u001b[1m2/2\u001b[0m \u001b[32m━━━━━━━━━━━━━━━━━━━━\u001b[0m\u001b[37m\u001b[0m \u001b[1m0s\u001b[0m 20ms/step - accuracy: 1.0000 - loss: 0.0251\n",
            "Epoch 38/50\n",
            "\u001b[1m2/2\u001b[0m \u001b[32m━━━━━━━━━━━━━━━━━━━━\u001b[0m\u001b[37m\u001b[0m \u001b[1m0s\u001b[0m 19ms/step - accuracy: 1.0000 - loss: 0.0223\n",
            "Epoch 39/50\n",
            "\u001b[1m2/2\u001b[0m \u001b[32m━━━━━━━━━━━━━━━━━━━━\u001b[0m\u001b[37m\u001b[0m \u001b[1m0s\u001b[0m 21ms/step - accuracy: 1.0000 - loss: 0.0213\n",
            "Epoch 40/50\n",
            "\u001b[1m2/2\u001b[0m \u001b[32m━━━━━━━━━━━━━━━━━━━━\u001b[0m\u001b[37m\u001b[0m \u001b[1m0s\u001b[0m 19ms/step - accuracy: 1.0000 - loss: 0.0196\n",
            "Epoch 41/50\n",
            "\u001b[1m2/2\u001b[0m \u001b[32m━━━━━━━━━━━━━━━━━━━━\u001b[0m\u001b[37m\u001b[0m \u001b[1m0s\u001b[0m 19ms/step - accuracy: 1.0000 - loss: 0.0190\n",
            "Epoch 42/50\n",
            "\u001b[1m2/2\u001b[0m \u001b[32m━━━━━━━━━━━━━━━━━━━━\u001b[0m\u001b[37m\u001b[0m \u001b[1m0s\u001b[0m 19ms/step - accuracy: 1.0000 - loss: 0.0189\n",
            "Epoch 43/50\n",
            "\u001b[1m2/2\u001b[0m \u001b[32m━━━━━━━━━━━━━━━━━━━━\u001b[0m\u001b[37m\u001b[0m \u001b[1m0s\u001b[0m 19ms/step - accuracy: 1.0000 - loss: 0.0172\n",
            "Epoch 44/50\n",
            "\u001b[1m2/2\u001b[0m \u001b[32m━━━━━━━━━━━━━━━━━━━━\u001b[0m\u001b[37m\u001b[0m \u001b[1m0s\u001b[0m 20ms/step - accuracy: 1.0000 - loss: 0.0161\n",
            "Epoch 45/50\n",
            "\u001b[1m2/2\u001b[0m \u001b[32m━━━━━━━━━━━━━━━━━━━━\u001b[0m\u001b[37m\u001b[0m \u001b[1m0s\u001b[0m 19ms/step - accuracy: 1.0000 - loss: 0.0152\n",
            "Epoch 46/50\n",
            "\u001b[1m2/2\u001b[0m \u001b[32m━━━━━━━━━━━━━━━━━━━━\u001b[0m\u001b[37m\u001b[0m \u001b[1m0s\u001b[0m 19ms/step - accuracy: 1.0000 - loss: 0.0144\n",
            "Epoch 47/50\n",
            "\u001b[1m2/2\u001b[0m \u001b[32m━━━━━━━━━━━━━━━━━━━━\u001b[0m\u001b[37m\u001b[0m \u001b[1m0s\u001b[0m 19ms/step - accuracy: 1.0000 - loss: 0.0143\n",
            "Epoch 48/50\n",
            "\u001b[1m2/2\u001b[0m \u001b[32m━━━━━━━━━━━━━━━━━━━━\u001b[0m\u001b[37m\u001b[0m \u001b[1m0s\u001b[0m 19ms/step - accuracy: 1.0000 - loss: 0.0137\n",
            "Epoch 49/50\n",
            "\u001b[1m2/2\u001b[0m \u001b[32m━━━━━━━━━━━━━━━━━━━━\u001b[0m\u001b[37m\u001b[0m \u001b[1m0s\u001b[0m 19ms/step - accuracy: 1.0000 - loss: 0.0131\n",
            "Epoch 50/50\n",
            "\u001b[1m2/2\u001b[0m \u001b[32m━━━━━━━━━━━━━━━━━━━━\u001b[0m\u001b[37m\u001b[0m \u001b[1m0s\u001b[0m 24ms/step - accuracy: 1.0000 - loss: 0.0122\n"
          ]
        },
        {
          "output_type": "execute_result",
          "data": {
            "text/plain": [
              "<keras.src.callbacks.history.History at 0x7be1a2a24b60>"
            ]
          },
          "metadata": {},
          "execution_count": 8
        }
      ]
    },
    {
      "cell_type": "code",
      "metadata": {
        "colab": {
          "base_uri": "https://localhost:8080/"
        },
        "id": "b6052159",
        "outputId": "084fa700-ac1b-429c-d68c-29507033cff8"
      },
      "source": [
        "# Define the path to the new song file\n",
        "new_song_path = \"/content/melody_songs/melody songs/Maamannan - Nenjame Nenjame Video  Udhayanidhi Stalin  Vadivelu  A.R Rahman.mp3\"\n",
        "\n",
        "# Load the new song\n",
        "try:\n",
        "    y_new, sr_new = librosa.load(new_song_path, sr=sr) # Use the same sample rate as training data\n",
        "except Exception as e:\n",
        "    print(f\"Error loading new song: {e}\")\n",
        "    y_new, sr_new = None, None # Set to None if loading fails\n",
        "\n",
        "if y_new is not None:\n",
        "    # Extract features (MFCCs, Chroma, Spectral Centroid)\n",
        "    try:\n",
        "        mfccs_new = librosa.feature.mfcc(y=y_new, sr=sr_new, n_mfcc=13)\n",
        "        chroma_new = librosa.feature.chroma_stft(y=y_new, sr=sr_new)\n",
        "        spec_centroid_new = librosa.feature.spectral_centroid(y=y_new, sr=sr_new)\n",
        "\n",
        "        # Aggregate and combine features\n",
        "        combined_features_new = np.concatenate((np.mean(mfccs_new, axis=1),\n",
        "                                            np.mean(chroma_new, axis=1),\n",
        "                                            np.mean(spec_centroid_new, axis=1)))\n",
        "\n",
        "        # Reshape for prediction (1 sample, n_features)\n",
        "        X_new = combined_features_new.reshape(1, -1)\n",
        "\n",
        "        # Scale the features using the fitted scaler\n",
        "        X_new_scaled = scaler.transform(X_new)\n",
        "\n",
        "        print(\"New song features shape:\", X_new_scaled.shape)\n",
        "\n",
        "    except Exception as e:\n",
        "        print(f\"Error extracting features from new song: {e}\")\n",
        "        X_new_scaled = None # Set to None if feature extraction fails\n",
        "else:\n",
        "    X_new_scaled = None # Set to None if loading failed"
      ],
      "execution_count": 11,
      "outputs": [
        {
          "output_type": "stream",
          "name": "stdout",
          "text": [
            "New song features shape: (1, 26)\n"
          ]
        }
      ]
    },
    {
      "cell_type": "code",
      "source": [
        "# Make a prediction\n",
        "if X_new_scaled is not None:\n",
        "    predictions = model.predict(X_new_scaled)\n",
        "    predicted_class = np.argmax(predictions, axis=1)[0]\n",
        "\n",
        "    # Map the predicted class back to the genre label\n",
        "    genre_mapping = {0: 'rap', 1: 'melody'}\n",
        "    predicted_genre = genre_mapping[predicted_class]\n",
        "\n",
        "    print(f\"The predicted genre for the new song is: {predicted_genre}\")\n",
        "else:\n",
        "    print(\"Could not predict the genre of the new song due to previous errors.\")"
      ],
      "metadata": {
        "id": "1b293267",
        "colab": {
          "base_uri": "https://localhost:8080/"
        },
        "outputId": "a0f1ddb3-b10a-4651-c4c3-5746c111c55e"
      },
      "execution_count": 12,
      "outputs": [
        {
          "output_type": "stream",
          "name": "stdout",
          "text": [
            "\u001b[1m1/1\u001b[0m \u001b[32m━━━━━━━━━━━━━━━━━━━━\u001b[0m\u001b[37m\u001b[0m \u001b[1m0s\u001b[0m 43ms/step\n",
            "The predicted genre for the new song is: melody\n"
          ]
        }
      ]
    }
  ],
  "metadata": {
    "accelerator": "GPU",
    "colab": {
      "gpuType": "T4",
      "provenance": [],
      "include_colab_link": true
    },
    "kernelspec": {
      "display_name": "Python 3",
      "name": "python3"
    },
    "language_info": {
      "name": "python"
    }
  },
  "nbformat": 4,
  "nbformat_minor": 0
}