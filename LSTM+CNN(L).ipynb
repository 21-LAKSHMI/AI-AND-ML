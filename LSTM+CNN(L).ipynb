{
 "cells": [
  {
   "cell_type": "code",
   "execution_count": 15,
   "id": "9297b31f-5cc4-4c49-a3b4-e1c3369ccdcc",
   "metadata": {},
   "outputs": [],
   "source": [
    "# Run this cell first\n",
    "import os\n",
    "import numpy as np\n",
    "import librosa\n",
    "import random\n",
    "from glob import glob\n",
    "from sklearn.preprocessing import LabelEncoder\n",
    "from sklearn.model_selection import train_test_split\n",
    "from tensorflow.keras.utils import to_categorical\n",
    "from tensorflow.keras.models import Sequential, load_model\n",
    "from tensorflow.keras.layers import Conv1D, MaxPooling1D, Dropout, Dense, Bidirectional, LSTM, BatchNormalization, Flatten\n",
    "from tensorflow.keras.callbacks import EarlyStopping, ModelCheckpoint, ReduceLROnPlateau\n",
    "from sklearn.metrics import classification_report, confusion_matrix\n",
    "import matplotlib.pyplot as plt"
   ]
  },
  {
   "cell_type": "code",
   "execution_count": 16,
   "id": "539d68fe-5e3e-4b6f-a419-0228a9261bb2",
   "metadata": {},
   "outputs": [],
   "source": [
    "sr = 22050\n",
    "clip_duration = 10   # seconds (change to 5 to generate more clips)\n",
    "n_mfcc = 40\n",
    "n_fft = 2048\n",
    "hop_length = 512"
   ]
  },
  {
   "cell_type": "code",
   "execution_count": 17,
   "id": "a87cebcb-a8cf-4e6a-86b7-91d302819ad5",
   "metadata": {},
   "outputs": [],
   "source": [
    "SR = 22050\n",
    "CLIP_DURATION = 10\n",
    "CLIP_SAMPLES = SR * CLIP_DURATION\n",
    "N_MFCC = 40\n",
    "N_FFT = 2048\n",
    "HOP_LENGTH = 512\n",
    "\n",
    "def extract_mfcc_from_clip(clip, sr=SR, n_mfcc=N_MFCC, n_fft=N_FFT, hop_length=HOP_LENGTH):\n",
    "    \"\"\"\n",
    "    Input: raw audio clip (1D numpy) of exact length CLIP_SAMPLES\n",
    "    Returns: mfcc (timesteps, n_mfcc) padded/truncated to expected_frames\n",
    "    \"\"\"\n",
    "    mfcc = librosa.feature.mfcc(y=clip, sr=sr, n_mfcc=n_mfcc, n_fft=n_fft, hop_length=hop_length)\n",
    "    mfcc = mfcc.T  # shape (timesteps, n_mfcc)\n",
    "    # Compute expected frames from clip length:\n",
    "    expected_frames = 1 + (CLIP_SAMPLES - n_fft) // hop_length\n",
    "    if mfcc.shape[0] < expected_frames:\n",
    "        pad_width = expected_frames - mfcc.shape[0]\n",
    "        mfcc = np.pad(mfcc, ((0, pad_width),(0,0)), mode='constant')\n",
    "    elif mfcc.shape[0] > expected_frames:\n",
    "        mfcc = mfcc[:expected_frames, :]\n",
    "    return mfcc  # (expected_frames, n_mfcc)\n"
   ]
  },
  {
   "cell_type": "code",
   "execution_count": 18,
   "id": "37243063-2562-4112-89bc-b4e3d51371f1",
   "metadata": {},
   "outputs": [
    {
     "name": "stdout",
     "output_type": "stream",
     "text": [
      "X shape: (993, 427, 40)\n"
     ]
    }
   ],
   "source": [
    "def prepare_dataset(dataset_path, genres, sr=SR, clip_samples=CLIP_SAMPLES):\n",
    "    X = []\n",
    "    labels = []\n",
    "    for genre in genres:\n",
    "        files = glob(os.path.join(dataset_path, genre, \"*\"))\n",
    "        for fpath in files:\n",
    "            try:\n",
    "                # librosa.load will use audioread for mp3 if soundfile fails; use raw string for Windows paths\n",
    "                signal, _ = librosa.load(fpath, sr=sr)\n",
    "            except Exception as e:\n",
    "                print(\"Failed to load\", fpath, e)\n",
    "                continue\n",
    "\n",
    "            # slice into full clips only\n",
    "            for start in range(0, len(signal), clip_samples):\n",
    "                clip = signal[start:start+clip_samples]\n",
    "                if len(clip) == clip_samples:\n",
    "                    mfcc = extract_mfcc_from_clip(clip)\n",
    "                    X.append(mfcc)\n",
    "                    labels.append(genre)\n",
    "    X = np.array(X)  # shape (samples, timesteps, n_mfcc)\n",
    "    return X, np.array(labels)\n",
    "\n",
    "# Example call:\n",
    "DATASET_PATH = r\"C:\\Users\\USER\\Desktop\\Song_dataset\"   # your folder with 'rap' and 'melody' subfolders\n",
    "genres = [\"rap\", \"melody\"]\n",
    "X, labels = prepare_dataset(DATASET_PATH, genres)\n",
    "print(\"X shape:\", X.shape)  # e.g., (num_clips, 427, 40)\n"
   ]
  },
  {
   "cell_type": "code",
   "execution_count": 19,
   "id": "18839bff-8b0f-4af7-9dce-260882a5a5ba",
   "metadata": {},
   "outputs": [
    {
     "name": "stdout",
     "output_type": "stream",
     "text": [
      "Train shape: (794, 427, 40) (794, 2)\n",
      "Test shape: (199, 427, 40) (199, 2)\n"
     ]
    }
   ],
   "source": [
    "# Encode\n",
    "le = LabelEncoder()\n",
    "y_int = le.fit_transform(labels)   # rap -> 0, melody -> 1 (example)\n",
    "y = to_categorical(y_int)\n",
    "\n",
    "# Train-test split (stratify to keep class balance)\n",
    "X_train, X_test, y_train, y_test = train_test_split(X, y, test_size=0.2, random_state=42, stratify=y_int)\n",
    "\n",
    "print(\"Train shape:\", X_train.shape, y_train.shape)\n",
    "print(\"Test shape:\", X_test.shape, y_test.shape)\n"
   ]
  },
  {
   "cell_type": "code",
   "execution_count": 20,
   "id": "a84e254c-fd67-447f-9fd7-58dd03b0cac4",
   "metadata": {},
   "outputs": [
    {
     "name": "stdout",
     "output_type": "stream",
     "text": [
      "Model: \"sequential\"\n",
      "_________________________________________________________________\n",
      " Layer (type)                Output Shape              Param #   \n",
      "=================================================================\n",
      " conv1d (Conv1D)             (None, 427, 64)           7744      \n",
      "                                                                 \n",
      " batch_normalization (BatchN  (None, 427, 64)          256       \n",
      " ormalization)                                                   \n",
      "                                                                 \n",
      " max_pooling1d (MaxPooling1D  (None, 213, 64)          0         \n",
      " )                                                               \n",
      "                                                                 \n",
      " dropout (Dropout)           (None, 213, 64)           0         \n",
      "                                                                 \n",
      " conv1d_1 (Conv1D)           (None, 213, 128)          24704     \n",
      "                                                                 \n",
      " batch_normalization_1 (Batc  (None, 213, 128)         512       \n",
      " hNormalization)                                                 \n",
      "                                                                 \n",
      " max_pooling1d_1 (MaxPooling  (None, 106, 128)         0         \n",
      " 1D)                                                             \n",
      "                                                                 \n",
      " dropout_1 (Dropout)         (None, 106, 128)          0         \n",
      "                                                                 \n",
      " bidirectional (Bidirectiona  (None, 256)              263168    \n",
      " l)                                                              \n",
      "                                                                 \n",
      " dropout_2 (Dropout)         (None, 256)               0         \n",
      "                                                                 \n",
      " dense (Dense)               (None, 64)                16448     \n",
      "                                                                 \n",
      " dropout_3 (Dropout)         (None, 64)                0         \n",
      "                                                                 \n",
      " dense_1 (Dense)             (None, 2)                 130       \n",
      "                                                                 \n",
      "=================================================================\n",
      "Total params: 312,962\n",
      "Trainable params: 312,578\n",
      "Non-trainable params: 384\n",
      "_________________________________________________________________\n"
     ]
    }
   ],
   "source": [
    "def build_cnn_lstm(input_shape, n_classes):\n",
    "    model = Sequential()\n",
    "    # Conv block 1\n",
    "    model.add(Conv1D(filters=64, kernel_size=3, padding='same', activation='relu', input_shape=input_shape))\n",
    "    model.add(BatchNormalization())\n",
    "    model.add(MaxPooling1D(pool_size=2))\n",
    "    model.add(Dropout(0.25))\n",
    "\n",
    "    # Conv block 2\n",
    "    model.add(Conv1D(filters=128, kernel_size=3, padding='same', activation='relu'))\n",
    "    model.add(BatchNormalization())\n",
    "    model.add(MaxPooling1D(pool_size=2))\n",
    "    model.add(Dropout(0.25))\n",
    "\n",
    "    # Optionally more conv blocks can be added\n",
    "\n",
    "    # LSTM part: use Bidirectional for better context\n",
    "    model.add(Bidirectional(LSTM(128, return_sequences=False)))\n",
    "    model.add(Dropout(0.3))\n",
    "\n",
    "    # Dense head\n",
    "    model.add(Dense(64, activation='relu'))\n",
    "    model.add(Dropout(0.3))\n",
    "    model.add(Dense(n_classes, activation='softmax'))\n",
    "\n",
    "    model.compile(optimizer='adam', loss='categorical_crossentropy', metrics=['accuracy'])\n",
    "    return model\n",
    "\n",
    "input_shape = (X_train.shape[1], X_train.shape[2])\n",
    "model = build_cnn_lstm(input_shape, n_classes=y.shape[1])\n",
    "model.summary()\n"
   ]
  },
  {
   "cell_type": "code",
   "execution_count": 21,
   "id": "1d296188-cc90-4ebe-b96c-7ce0ec1ef39e",
   "metadata": {},
   "outputs": [
    {
     "name": "stdout",
     "output_type": "stream",
     "text": [
      "Epoch 1/25\n",
      "100/100 [==============================] - 14s 91ms/step - loss: 0.4534 - accuracy: 0.7809 - val_loss: 0.1572 - val_accuracy: 0.9598 - lr: 0.0010\n",
      "Epoch 2/25\n",
      "100/100 [==============================] - 7s 75ms/step - loss: 0.2482 - accuracy: 0.9018 - val_loss: 0.1248 - val_accuracy: 0.9497 - lr: 0.0010\n",
      "Epoch 3/25\n",
      "100/100 [==============================] - 8s 79ms/step - loss: 0.1960 - accuracy: 0.9270 - val_loss: 0.2021 - val_accuracy: 0.9296 - lr: 0.0010\n",
      "Epoch 4/25\n",
      "100/100 [==============================] - 8s 84ms/step - loss: 0.1715 - accuracy: 0.9332 - val_loss: 0.0731 - val_accuracy: 0.9799 - lr: 0.0010\n",
      "Epoch 5/25\n",
      "100/100 [==============================] - 8s 76ms/step - loss: 0.1759 - accuracy: 0.9358 - val_loss: 0.1787 - val_accuracy: 0.9246 - lr: 0.0010\n",
      "Epoch 6/25\n",
      "100/100 [==============================] - 8s 78ms/step - loss: 0.1342 - accuracy: 0.9509 - val_loss: 0.0712 - val_accuracy: 0.9698 - lr: 0.0010\n",
      "Epoch 7/25\n",
      "100/100 [==============================] - 8s 80ms/step - loss: 0.1567 - accuracy: 0.9471 - val_loss: 0.0738 - val_accuracy: 0.9648 - lr: 0.0010\n",
      "Epoch 8/25\n",
      "100/100 [==============================] - 8s 78ms/step - loss: 0.1015 - accuracy: 0.9584 - val_loss: 0.1308 - val_accuracy: 0.9497 - lr: 0.0010\n",
      "Epoch 9/25\n",
      "100/100 [==============================] - 8s 81ms/step - loss: 0.0927 - accuracy: 0.9647 - val_loss: 0.0435 - val_accuracy: 0.9899 - lr: 0.0010\n",
      "Epoch 10/25\n",
      "100/100 [==============================] - 8s 78ms/step - loss: 0.0825 - accuracy: 0.9761 - val_loss: 0.0783 - val_accuracy: 0.9598 - lr: 0.0010\n",
      "Epoch 11/25\n",
      "100/100 [==============================] - 9s 87ms/step - loss: 0.1004 - accuracy: 0.9710 - val_loss: 0.0474 - val_accuracy: 0.9749 - lr: 0.0010\n",
      "Epoch 12/25\n",
      "100/100 [==============================] - 8s 82ms/step - loss: 0.0580 - accuracy: 0.9811 - val_loss: 0.1177 - val_accuracy: 0.9598 - lr: 0.0010\n",
      "Epoch 13/25\n",
      "100/100 [==============================] - 8s 78ms/step - loss: 0.0396 - accuracy: 0.9874 - val_loss: 0.0763 - val_accuracy: 0.9799 - lr: 5.0000e-04\n",
      "Epoch 14/25\n",
      "100/100 [==============================] - 8s 79ms/step - loss: 0.0361 - accuracy: 0.9874 - val_loss: 0.0719 - val_accuracy: 0.9698 - lr: 5.0000e-04\n",
      "Epoch 15/25\n",
      "100/100 [==============================] - 8s 81ms/step - loss: 0.0312 - accuracy: 0.9887 - val_loss: 0.0446 - val_accuracy: 0.9799 - lr: 5.0000e-04\n"
     ]
    }
   ],
   "source": [
    "callbacks = [\n",
    "    EarlyStopping(monitor='val_loss', patience=6, restore_best_weights=True),\n",
    "    ModelCheckpoint('best_cnn_lstm.h5', monitor='val_loss', save_best_only=True),\n",
    "    ReduceLROnPlateau(monitor='val_loss', factor=0.5, patience=3, min_lr=1e-6)\n",
    "]\n",
    "\n",
    "history = model.fit(\n",
    "    X_train, y_train,\n",
    "    validation_data=(X_test, y_test),\n",
    "    epochs=25,          # reduced epochs to avoid overfitting\n",
    "    batch_size=8,\n",
    "    callbacks=callbacks\n",
    ")\n"
   ]
  },
  {
   "cell_type": "code",
   "execution_count": 22,
   "id": "126280f9-4a29-4680-a4f2-a72d5cecc4f2",
   "metadata": {},
   "outputs": [
    {
     "name": "stdout",
     "output_type": "stream",
     "text": [
      "Test loss: 0.0435, Test accuracy: 98.99%\n",
      "7/7 [==============================] - 1s 49ms/step\n",
      "              precision    recall  f1-score   support\n",
      "\n",
      "      melody       1.00      0.98      0.99       108\n",
      "         rap       0.98      1.00      0.99        91\n",
      "\n",
      "    accuracy                           0.99       199\n",
      "   macro avg       0.99      0.99      0.99       199\n",
      "weighted avg       0.99      0.99      0.99       199\n",
      "\n",
      "Confusion matrix:\n",
      " [[106   2]\n",
      " [  0  91]]\n"
     ]
    },
    {
     "data": {
      "image/png": "[encoded data removed]",
      "text/plain": [
       "<Figure size 640x480 with 1 Axes>"
      ]
     },
     "metadata": {},
     "output_type": "display_data"
    },
    {
     "data": {
      "image/png": "[encoded data removed]",
      "text/plain": [
       "<Figure size 640x480 with 1 Axes>"
      ]
     },
     "metadata": {},
     "output_type": "display_data"
    }
   ],
   "source": [
    "# Evaluate on test set\n",
    "loss, acc = model.evaluate(X_test, y_test, verbose=0)\n",
    "print(f\"Test loss: {loss:.4f}, Test accuracy: {acc*100:.2f}%\")\n",
    "\n",
    "# Predictions\n",
    "y_pred_probs = model.predict(X_test)\n",
    "y_pred = np.argmax(y_pred_probs, axis=1)\n",
    "y_true = np.argmax(y_test, axis=1)\n",
    "\n",
    "print(classification_report(y_true, y_pred, target_names=le.classes_))\n",
    "print(\"Confusion matrix:\\n\", confusion_matrix(y_true, y_pred))\n",
    "\n",
    "# Plot training curves\n",
    "plt.plot(history.history['loss'], label='train loss')\n",
    "plt.plot(history.history['val_loss'], label='val loss')\n",
    "plt.legend(); plt.show()\n",
    "plt.plot(history.history['accuracy'], label='train acc')\n",
    "plt.plot(history.history['val_accuracy'], label='val acc')\n",
    "plt.legend(); plt.show()\n"
   ]
  },
  {
   "cell_type": "code",
   "execution_count": 23,
   "id": "29f691de-d9fc-42b6-975c-5db8e4d8122f",
   "metadata": {},
   "outputs": [],
   "source": [
    "model.save('cnn_lstm_model_final.keras')\n",
    "# later:\n",
    "# loaded_model = load_model('cnn_lstm_model_final.keras')\n"
   ]
  },
  {
   "cell_type": "code",
   "execution_count": 24,
   "id": "580c563b-43bc-46cd-b49d-b083186beffc",
   "metadata": {},
   "outputs": [],
   "source": [
    "def predict_genre_for_song(file_path, model, encoder, sr=SR, clip_duration=CLIP_DURATION):\n",
    "    clip_samples = sr * clip_duration\n",
    "    try:\n",
    "        signal, _ = librosa.load(file_path, sr=sr)\n",
    "    except Exception as e:\n",
    "        return {\"error\": f\"Could not load file: {e}\"}\n",
    "    probs = []\n",
    "    for start in range(0, len(signal), clip_samples):\n",
    "        clip = signal[start:start+clip_samples]\n",
    "        if len(clip) == clip_samples:\n",
    "            mfcc = extract_mfcc_from_clip(clip)\n",
    "            mfcc = np.expand_dims(mfcc, axis=0)  # (1, timesteps, features)\n",
    "            p = model.predict(mfcc, verbose=0)[0]  # e.g., [0.1, 0.9]\n",
    "            probs.append(p)\n",
    "    if len(probs) == 0:\n",
    "        return {\"error\": \"Song too short for clip duration\"}\n",
    "    probs = np.array(probs)\n",
    "    avg_probs = probs.mean(axis=0)\n",
    "    final_class = np.argmax(avg_probs)\n",
    "    return {\n",
    "        \"pred_label\": encoder.inverse_transform([final_class])[0],\n",
    "        \"avg_probs\": avg_probs,\n",
    "        \"per_clip_probs\": probs\n",
    "    }\n"
   ]
  },
  {
   "cell_type": "code",
   "execution_count": 25,
   "id": "e3436359-43c9-456c-b152-c885bb89c735",
   "metadata": {},
   "outputs": [
    {
     "name": "stdout",
     "output_type": "stream",
     "text": [
      "melody [0.79503566 0.20496435]\n"
     ]
    }
   ],
   "source": [
    "# Usage (Windows path note: use raw string r\"...\")\n",
    "file_path = r\"C:\\Users\\USER\\Downloads\\Thangapoovey.mp3\"\n",
    "result = predict_genre_for_song(file_path, model, le)\n",
    "print(result[\"pred_label\"], result[\"avg_probs\"])"
   ]
  },
  {
   "cell_type": "code",
   "execution_count": 26,
   "id": "86089aa6-1b28-4dee-968d-2c5c7e0a7533",
   "metadata": {},
   "outputs": [
    {
     "name": "stdout",
     "output_type": "stream",
     "text": [
      "rap [2.0979496e-04 9.9979019e-01]\n"
     ]
    }
   ],
   "source": [
    "# Usage (Windows path note: use raw string r\"...\")\n",
    "file_path = r\"C:\\Users\\USER\\Downloads\\Powerhouse.mp3\"\n",
    "result = predict_genre_for_song(file_path, model, le)\n",
    "print(result[\"pred_label\"], result[\"avg_probs\"])"
   ]
  },
  {
   "cell_type": "code",
   "execution_count": null,
   "id": "7daed4c9-9f13-4277-98ab-4662b8fccee4",
   "metadata": {},
   "outputs": [],
   "source": []
  }
 ],
 "metadata": {
  "kernelspec": {
   "display_name": "Python (LakshmiDL)",
   "language": "python",
   "name": "lakshmidl"
  },
  "language_info": {
   "codemirror_mode": {
    "name": "ipython",
    "version": 3
   },
   "file_extension": ".py",
   "mimetype": "text/x-python",
   "name": "python",
   "nbconvert_exporter": "python",
   "pygments_lexer": "ipython3",
   "version": "3.10.18"
  }
 },
 "nbformat": 4,
 "nbformat_minor": 5
}
